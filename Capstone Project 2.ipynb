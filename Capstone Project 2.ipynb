{
 "cells": [
  {
   "cell_type": "code",
   "execution_count": 1,
   "id": "c0869ee7",
   "metadata": {},
   "outputs": [],
   "source": [
    "# ! pip install xgboost"
   ]
  },
  {
   "cell_type": "code",
   "execution_count": 2,
   "id": "f8888259",
   "metadata": {},
   "outputs": [],
   "source": [
    "#Data manipulation libraries\n",
    "import pandas as pd\n",
    "import numpy as np\n",
    "import seaborn as sb\n",
    "\n",
    "#Data pre-processing Libraries\n",
    "from sklearn.preprocessing import LabelEncoder\n",
    "\n",
    "#Data visualisation libraries\n",
    "import matplotlib.pyplot as plt\n",
    "import seaborn as sns\n",
    "\n",
    "#for bell curve\n",
    "import scipy.stats as sci\n",
    "\n",
    "#Importing VIF for checking multicollinearity\n",
    "from statsmodels.stats.outliers_influence import variance_inflation_factor\n",
    "\n",
    "#Importing train test split\n",
    "from sklearn.model_selection import train_test_split, cross_val_score, GridSearchCV, learning_curve\n",
    "\n",
    "#Transforming data into normal form (0 and 1)\n",
    "from sklearn.preprocessing import StandardScaler\n",
    "\n",
    "from sklearn import metrics\n",
    "\n",
    "\n",
    "#Importing regressor models\n",
    "from sklearn.linear_model import LinearRegression\n",
    "\n",
    "#importing metrics for evaluation\n",
    "from sklearn.metrics import r2_score, mean_squared_error,accuracy_score\n",
    "\n",
    "\n",
    "\n",
    "#Importing regressor models\n",
    "from sklearn.linear_model import LinearRegression, Lasso, Ridge\n",
    "from sklearn.ensemble import AdaBoostRegressor, GradientBoostingRegressor, RandomForestRegressor\n",
    "from sklearn.tree import DecisionTreeRegressor\n",
    "from sklearn.svm import SVR\n",
    "from sklearn.linear_model import LogisticRegression\n",
    "from sklearn.neighbors import KNeighborsRegressor\n",
    "from xgboost import XGBRegressor\n",
    "import xgboost\n",
    "\n",
    "#Ignoring warnings\n",
    "import warnings\n",
    "warnings.filterwarnings('ignore')\n"
   ]
  },
  {
   "cell_type": "code",
   "execution_count": 3,
   "id": "32d495f4",
   "metadata": {},
   "outputs": [],
   "source": [
    "df1 = pd.read_excel(\"Medibuddy insurance data personal details.xlsx\")"
   ]
  },
  {
   "cell_type": "code",
   "execution_count": 4,
   "id": "faf4c108",
   "metadata": {},
   "outputs": [],
   "source": [
    "df2 = pd.read_csv(\"Medibuddy Insurance Data Price.csv\")"
   ]
  },
  {
   "cell_type": "code",
   "execution_count": 5,
   "id": "11a66abf",
   "metadata": {},
   "outputs": [
    {
     "data": {
      "text/html": [
       "<div>\n",
       "<style scoped>\n",
       "    .dataframe tbody tr th:only-of-type {\n",
       "        vertical-align: middle;\n",
       "    }\n",
       "\n",
       "    .dataframe tbody tr th {\n",
       "        vertical-align: top;\n",
       "    }\n",
       "\n",
       "    .dataframe thead th {\n",
       "        text-align: right;\n",
       "    }\n",
       "</style>\n",
       "<table border=\"1\" class=\"dataframe\">\n",
       "  <thead>\n",
       "    <tr style=\"text-align: right;\">\n",
       "      <th></th>\n",
       "      <th>Policy no.</th>\n",
       "      <th>children</th>\n",
       "      <th>smoker</th>\n",
       "      <th>region</th>\n",
       "    </tr>\n",
       "  </thead>\n",
       "  <tbody>\n",
       "    <tr>\n",
       "      <th>0</th>\n",
       "      <td>PLC157006</td>\n",
       "      <td>0</td>\n",
       "      <td>no</td>\n",
       "      <td>southwest</td>\n",
       "    </tr>\n",
       "    <tr>\n",
       "      <th>1</th>\n",
       "      <td>PLC157033</td>\n",
       "      <td>1</td>\n",
       "      <td>no</td>\n",
       "      <td>southwest</td>\n",
       "    </tr>\n",
       "    <tr>\n",
       "      <th>2</th>\n",
       "      <td>PLC157060</td>\n",
       "      <td>0</td>\n",
       "      <td>no</td>\n",
       "      <td>southwest</td>\n",
       "    </tr>\n",
       "    <tr>\n",
       "      <th>3</th>\n",
       "      <td>PLC157087</td>\n",
       "      <td>1</td>\n",
       "      <td>no</td>\n",
       "      <td>southwest</td>\n",
       "    </tr>\n",
       "    <tr>\n",
       "      <th>4</th>\n",
       "      <td>PLC157186</td>\n",
       "      <td>5</td>\n",
       "      <td>no</td>\n",
       "      <td>southwest</td>\n",
       "    </tr>\n",
       "  </tbody>\n",
       "</table>\n",
       "</div>"
      ],
      "text/plain": [
       "  Policy no.  children smoker     region\n",
       "0  PLC157006         0     no  southwest\n",
       "1  PLC157033         1     no  southwest\n",
       "2  PLC157060         0     no  southwest\n",
       "3  PLC157087         1     no  southwest\n",
       "4  PLC157186         5     no  southwest"
      ]
     },
     "execution_count": 5,
     "metadata": {},
     "output_type": "execute_result"
    }
   ],
   "source": [
    "df1.head()"
   ]
  },
  {
   "cell_type": "code",
   "execution_count": 6,
   "id": "6be4d3c7",
   "metadata": {},
   "outputs": [
    {
     "data": {
      "text/plain": [
       "array(['southwest', 'southeast', 'northwest', 'northeast'], dtype=object)"
      ]
     },
     "execution_count": 6,
     "metadata": {},
     "output_type": "execute_result"
    }
   ],
   "source": [
    "df1.region.unique()"
   ]
  },
  {
   "cell_type": "code",
   "execution_count": 7,
   "id": "0bbe2c81",
   "metadata": {},
   "outputs": [
    {
     "data": {
      "text/plain": [
       "array([0, 1, 5, 2, 3, 4], dtype=int64)"
      ]
     },
     "execution_count": 7,
     "metadata": {},
     "output_type": "execute_result"
    }
   ],
   "source": [
    "df1.children.unique()"
   ]
  },
  {
   "cell_type": "code",
   "execution_count": 8,
   "id": "02060551",
   "metadata": {},
   "outputs": [
    {
     "data": {
      "text/plain": [
       "array(['no', 'yes'], dtype=object)"
      ]
     },
     "execution_count": 8,
     "metadata": {},
     "output_type": "execute_result"
    }
   ],
   "source": [
    "df1.smoker.unique()"
   ]
  },
  {
   "cell_type": "code",
   "execution_count": 9,
   "id": "e027415c",
   "metadata": {},
   "outputs": [
    {
     "data": {
      "text/html": [
       "<div>\n",
       "<style scoped>\n",
       "    .dataframe tbody tr th:only-of-type {\n",
       "        vertical-align: middle;\n",
       "    }\n",
       "\n",
       "    .dataframe tbody tr th {\n",
       "        vertical-align: top;\n",
       "    }\n",
       "\n",
       "    .dataframe thead th {\n",
       "        text-align: right;\n",
       "    }\n",
       "</style>\n",
       "<table border=\"1\" class=\"dataframe\">\n",
       "  <thead>\n",
       "    <tr style=\"text-align: right;\">\n",
       "      <th></th>\n",
       "      <th>Policy no.</th>\n",
       "      <th>age</th>\n",
       "      <th>sex</th>\n",
       "      <th>bmi</th>\n",
       "      <th>charges in INR</th>\n",
       "    </tr>\n",
       "  </thead>\n",
       "  <tbody>\n",
       "    <tr>\n",
       "      <th>0</th>\n",
       "      <td>PLC156898</td>\n",
       "      <td>19</td>\n",
       "      <td>female</td>\n",
       "      <td>27.900</td>\n",
       "      <td>16884.92400</td>\n",
       "    </tr>\n",
       "    <tr>\n",
       "      <th>1</th>\n",
       "      <td>PLC156907</td>\n",
       "      <td>18</td>\n",
       "      <td>male</td>\n",
       "      <td>33.770</td>\n",
       "      <td>1725.55230</td>\n",
       "    </tr>\n",
       "    <tr>\n",
       "      <th>2</th>\n",
       "      <td>PLC156916</td>\n",
       "      <td>28</td>\n",
       "      <td>male</td>\n",
       "      <td>33.000</td>\n",
       "      <td>4449.46200</td>\n",
       "    </tr>\n",
       "    <tr>\n",
       "      <th>3</th>\n",
       "      <td>PLC156925</td>\n",
       "      <td>33</td>\n",
       "      <td>male</td>\n",
       "      <td>22.705</td>\n",
       "      <td>21984.47061</td>\n",
       "    </tr>\n",
       "    <tr>\n",
       "      <th>4</th>\n",
       "      <td>PLC156934</td>\n",
       "      <td>32</td>\n",
       "      <td>male</td>\n",
       "      <td>28.880</td>\n",
       "      <td>3866.85520</td>\n",
       "    </tr>\n",
       "  </tbody>\n",
       "</table>\n",
       "</div>"
      ],
      "text/plain": [
       "  Policy no.  age     sex     bmi  charges in INR\n",
       "0  PLC156898   19  female  27.900     16884.92400\n",
       "1  PLC156907   18    male  33.770      1725.55230\n",
       "2  PLC156916   28    male  33.000      4449.46200\n",
       "3  PLC156925   33    male  22.705     21984.47061\n",
       "4  PLC156934   32    male  28.880      3866.85520"
      ]
     },
     "execution_count": 9,
     "metadata": {},
     "output_type": "execute_result"
    }
   ],
   "source": [
    "df2.head()"
   ]
  },
  {
   "cell_type": "markdown",
   "id": "a663fd49",
   "metadata": {},
   "source": [
    "## Checking Missing Values"
   ]
  },
  {
   "cell_type": "code",
   "execution_count": 10,
   "id": "dce7c025",
   "metadata": {},
   "outputs": [
    {
     "data": {
      "text/plain": [
       "Policy no.    0\n",
       "children      0\n",
       "smoker        0\n",
       "region        0\n",
       "dtype: int64"
      ]
     },
     "execution_count": 10,
     "metadata": {},
     "output_type": "execute_result"
    }
   ],
   "source": [
    "df1.isnull().sum()"
   ]
  },
  {
   "cell_type": "code",
   "execution_count": 11,
   "id": "f767f575",
   "metadata": {},
   "outputs": [
    {
     "data": {
      "text/plain": [
       "Policy no.        0\n",
       "age               0\n",
       "sex               0\n",
       "bmi               0\n",
       "charges in INR    0\n",
       "dtype: int64"
      ]
     },
     "execution_count": 11,
     "metadata": {},
     "output_type": "execute_result"
    }
   ],
   "source": [
    "df2.isnull().sum()"
   ]
  },
  {
   "cell_type": "markdown",
   "id": "74977297",
   "metadata": {},
   "source": [
    "#### ENCODING:"
   ]
  },
  {
   "cell_type": "code",
   "execution_count": 12,
   "id": "92201b9c",
   "metadata": {},
   "outputs": [],
   "source": [
    "le = LabelEncoder()"
   ]
  },
  {
   "cell_type": "code",
   "execution_count": 13,
   "id": "7977f0f7",
   "metadata": {},
   "outputs": [],
   "source": [
    "df1['region'] = le.fit_transform(df1['region'])\n",
    "df1['smoker'] = le.fit_transform(df1['smoker'])\n",
    "df2['sex'] = le.fit_transform(df2['sex'])"
   ]
  },
  {
   "cell_type": "code",
   "execution_count": 14,
   "id": "c84fb69c",
   "metadata": {},
   "outputs": [
    {
     "data": {
      "text/html": [
       "<div>\n",
       "<style scoped>\n",
       "    .dataframe tbody tr th:only-of-type {\n",
       "        vertical-align: middle;\n",
       "    }\n",
       "\n",
       "    .dataframe tbody tr th {\n",
       "        vertical-align: top;\n",
       "    }\n",
       "\n",
       "    .dataframe thead th {\n",
       "        text-align: right;\n",
       "    }\n",
       "</style>\n",
       "<table border=\"1\" class=\"dataframe\">\n",
       "  <thead>\n",
       "    <tr style=\"text-align: right;\">\n",
       "      <th></th>\n",
       "      <th>Policy no.</th>\n",
       "      <th>children</th>\n",
       "      <th>smoker</th>\n",
       "      <th>region</th>\n",
       "    </tr>\n",
       "  </thead>\n",
       "  <tbody>\n",
       "    <tr>\n",
       "      <th>0</th>\n",
       "      <td>PLC157006</td>\n",
       "      <td>0</td>\n",
       "      <td>0</td>\n",
       "      <td>3</td>\n",
       "    </tr>\n",
       "    <tr>\n",
       "      <th>1</th>\n",
       "      <td>PLC157033</td>\n",
       "      <td>1</td>\n",
       "      <td>0</td>\n",
       "      <td>3</td>\n",
       "    </tr>\n",
       "    <tr>\n",
       "      <th>2</th>\n",
       "      <td>PLC157060</td>\n",
       "      <td>0</td>\n",
       "      <td>0</td>\n",
       "      <td>3</td>\n",
       "    </tr>\n",
       "    <tr>\n",
       "      <th>3</th>\n",
       "      <td>PLC157087</td>\n",
       "      <td>1</td>\n",
       "      <td>0</td>\n",
       "      <td>3</td>\n",
       "    </tr>\n",
       "    <tr>\n",
       "      <th>4</th>\n",
       "      <td>PLC157186</td>\n",
       "      <td>5</td>\n",
       "      <td>0</td>\n",
       "      <td>3</td>\n",
       "    </tr>\n",
       "  </tbody>\n",
       "</table>\n",
       "</div>"
      ],
      "text/plain": [
       "  Policy no.  children  smoker  region\n",
       "0  PLC157006         0       0       3\n",
       "1  PLC157033         1       0       3\n",
       "2  PLC157060         0       0       3\n",
       "3  PLC157087         1       0       3\n",
       "4  PLC157186         5       0       3"
      ]
     },
     "execution_count": 14,
     "metadata": {},
     "output_type": "execute_result"
    }
   ],
   "source": [
    "df1.head()"
   ]
  },
  {
   "cell_type": "code",
   "execution_count": 15,
   "id": "15e912f1",
   "metadata": {},
   "outputs": [
    {
     "data": {
      "text/html": [
       "<div>\n",
       "<style scoped>\n",
       "    .dataframe tbody tr th:only-of-type {\n",
       "        vertical-align: middle;\n",
       "    }\n",
       "\n",
       "    .dataframe tbody tr th {\n",
       "        vertical-align: top;\n",
       "    }\n",
       "\n",
       "    .dataframe thead th {\n",
       "        text-align: right;\n",
       "    }\n",
       "</style>\n",
       "<table border=\"1\" class=\"dataframe\">\n",
       "  <thead>\n",
       "    <tr style=\"text-align: right;\">\n",
       "      <th></th>\n",
       "      <th>Policy no.</th>\n",
       "      <th>age</th>\n",
       "      <th>sex</th>\n",
       "      <th>bmi</th>\n",
       "      <th>charges in INR</th>\n",
       "    </tr>\n",
       "  </thead>\n",
       "  <tbody>\n",
       "    <tr>\n",
       "      <th>0</th>\n",
       "      <td>PLC156898</td>\n",
       "      <td>19</td>\n",
       "      <td>0</td>\n",
       "      <td>27.900</td>\n",
       "      <td>16884.92400</td>\n",
       "    </tr>\n",
       "    <tr>\n",
       "      <th>1</th>\n",
       "      <td>PLC156907</td>\n",
       "      <td>18</td>\n",
       "      <td>1</td>\n",
       "      <td>33.770</td>\n",
       "      <td>1725.55230</td>\n",
       "    </tr>\n",
       "    <tr>\n",
       "      <th>2</th>\n",
       "      <td>PLC156916</td>\n",
       "      <td>28</td>\n",
       "      <td>1</td>\n",
       "      <td>33.000</td>\n",
       "      <td>4449.46200</td>\n",
       "    </tr>\n",
       "    <tr>\n",
       "      <th>3</th>\n",
       "      <td>PLC156925</td>\n",
       "      <td>33</td>\n",
       "      <td>1</td>\n",
       "      <td>22.705</td>\n",
       "      <td>21984.47061</td>\n",
       "    </tr>\n",
       "    <tr>\n",
       "      <th>4</th>\n",
       "      <td>PLC156934</td>\n",
       "      <td>32</td>\n",
       "      <td>1</td>\n",
       "      <td>28.880</td>\n",
       "      <td>3866.85520</td>\n",
       "    </tr>\n",
       "  </tbody>\n",
       "</table>\n",
       "</div>"
      ],
      "text/plain": [
       "  Policy no.  age  sex     bmi  charges in INR\n",
       "0  PLC156898   19    0  27.900     16884.92400\n",
       "1  PLC156907   18    1  33.770      1725.55230\n",
       "2  PLC156916   28    1  33.000      4449.46200\n",
       "3  PLC156925   33    1  22.705     21984.47061\n",
       "4  PLC156934   32    1  28.880      3866.85520"
      ]
     },
     "execution_count": 15,
     "metadata": {},
     "output_type": "execute_result"
    }
   ],
   "source": [
    "df2.head()"
   ]
  },
  {
   "cell_type": "markdown",
   "id": "57c041bc",
   "metadata": {},
   "source": [
    "###  Unique Values:"
   ]
  },
  {
   "cell_type": "code",
   "execution_count": 16,
   "id": "36359806",
   "metadata": {},
   "outputs": [
    {
     "name": "stdout",
     "output_type": "stream",
     "text": [
      "Children : 6\n",
      "Smoker : 2\n",
      "region : 4\n",
      "Age : 47\n",
      "Sex : 2\n",
      "BMI : 548\n"
     ]
    }
   ],
   "source": [
    "print(f'Children : {df1.children.nunique()}')\n",
    "print(f'Smoker : {df1.smoker.nunique()}')\n",
    "print(f'region : {df1.region.nunique()}')\n",
    "print(f'Age : {df2.age.nunique()}')\n",
    "print(f'Sex : {df2.sex.nunique()}')\n",
    "print(f'BMI : {df2.bmi.nunique()}')\n"
   ]
  },
  {
   "cell_type": "code",
   "execution_count": 17,
   "id": "ea05b7a4",
   "metadata": {},
   "outputs": [
    {
     "data": {
      "text/plain": [
       "(1338, 4)"
      ]
     },
     "execution_count": 17,
     "metadata": {},
     "output_type": "execute_result"
    }
   ],
   "source": [
    "df1.shape"
   ]
  },
  {
   "cell_type": "code",
   "execution_count": 18,
   "id": "34d4b61b",
   "metadata": {},
   "outputs": [
    {
     "data": {
      "text/plain": [
       "(1338, 5)"
      ]
     },
     "execution_count": 18,
     "metadata": {},
     "output_type": "execute_result"
    }
   ],
   "source": [
    "df2.shape"
   ]
  },
  {
   "cell_type": "code",
   "execution_count": 19,
   "id": "847379b7",
   "metadata": {},
   "outputs": [
    {
     "name": "stdout",
     "output_type": "stream",
     "text": [
      "<class 'pandas.core.frame.DataFrame'>\n",
      "RangeIndex: 1338 entries, 0 to 1337\n",
      "Data columns (total 4 columns):\n",
      " #   Column      Non-Null Count  Dtype \n",
      "---  ------      --------------  ----- \n",
      " 0   Policy no.  1338 non-null   object\n",
      " 1   children    1338 non-null   int64 \n",
      " 2   smoker      1338 non-null   int32 \n",
      " 3   region      1338 non-null   int32 \n",
      "dtypes: int32(2), int64(1), object(1)\n",
      "memory usage: 31.5+ KB\n"
     ]
    }
   ],
   "source": [
    "df1.info()"
   ]
  },
  {
   "cell_type": "code",
   "execution_count": 20,
   "id": "73ae4dc1",
   "metadata": {},
   "outputs": [
    {
     "name": "stdout",
     "output_type": "stream",
     "text": [
      "<class 'pandas.core.frame.DataFrame'>\n",
      "RangeIndex: 1338 entries, 0 to 1337\n",
      "Data columns (total 5 columns):\n",
      " #   Column          Non-Null Count  Dtype  \n",
      "---  ------          --------------  -----  \n",
      " 0   Policy no.      1338 non-null   object \n",
      " 1   age             1338 non-null   int64  \n",
      " 2   sex             1338 non-null   int32  \n",
      " 3   bmi             1338 non-null   float64\n",
      " 4   charges in INR  1338 non-null   float64\n",
      "dtypes: float64(2), int32(1), int64(1), object(1)\n",
      "memory usage: 47.2+ KB\n"
     ]
    }
   ],
   "source": [
    "df2.info()"
   ]
  },
  {
   "cell_type": "code",
   "execution_count": 21,
   "id": "56172e3b",
   "metadata": {},
   "outputs": [
    {
     "data": {
      "text/html": [
       "<div>\n",
       "<style scoped>\n",
       "    .dataframe tbody tr th:only-of-type {\n",
       "        vertical-align: middle;\n",
       "    }\n",
       "\n",
       "    .dataframe tbody tr th {\n",
       "        vertical-align: top;\n",
       "    }\n",
       "\n",
       "    .dataframe thead th {\n",
       "        text-align: right;\n",
       "    }\n",
       "</style>\n",
       "<table border=\"1\" class=\"dataframe\">\n",
       "  <thead>\n",
       "    <tr style=\"text-align: right;\">\n",
       "      <th></th>\n",
       "      <th>children</th>\n",
       "      <th>smoker</th>\n",
       "      <th>region</th>\n",
       "    </tr>\n",
       "  </thead>\n",
       "  <tbody>\n",
       "    <tr>\n",
       "      <th>count</th>\n",
       "      <td>1338.000000</td>\n",
       "      <td>1338.000000</td>\n",
       "      <td>1338.000000</td>\n",
       "    </tr>\n",
       "    <tr>\n",
       "      <th>mean</th>\n",
       "      <td>1.094918</td>\n",
       "      <td>0.204783</td>\n",
       "      <td>1.515695</td>\n",
       "    </tr>\n",
       "    <tr>\n",
       "      <th>std</th>\n",
       "      <td>1.205493</td>\n",
       "      <td>0.403694</td>\n",
       "      <td>1.104885</td>\n",
       "    </tr>\n",
       "    <tr>\n",
       "      <th>min</th>\n",
       "      <td>0.000000</td>\n",
       "      <td>0.000000</td>\n",
       "      <td>0.000000</td>\n",
       "    </tr>\n",
       "    <tr>\n",
       "      <th>25%</th>\n",
       "      <td>0.000000</td>\n",
       "      <td>0.000000</td>\n",
       "      <td>1.000000</td>\n",
       "    </tr>\n",
       "    <tr>\n",
       "      <th>50%</th>\n",
       "      <td>1.000000</td>\n",
       "      <td>0.000000</td>\n",
       "      <td>2.000000</td>\n",
       "    </tr>\n",
       "    <tr>\n",
       "      <th>75%</th>\n",
       "      <td>2.000000</td>\n",
       "      <td>0.000000</td>\n",
       "      <td>2.000000</td>\n",
       "    </tr>\n",
       "    <tr>\n",
       "      <th>max</th>\n",
       "      <td>5.000000</td>\n",
       "      <td>1.000000</td>\n",
       "      <td>3.000000</td>\n",
       "    </tr>\n",
       "  </tbody>\n",
       "</table>\n",
       "</div>"
      ],
      "text/plain": [
       "          children       smoker       region\n",
       "count  1338.000000  1338.000000  1338.000000\n",
       "mean      1.094918     0.204783     1.515695\n",
       "std       1.205493     0.403694     1.104885\n",
       "min       0.000000     0.000000     0.000000\n",
       "25%       0.000000     0.000000     1.000000\n",
       "50%       1.000000     0.000000     2.000000\n",
       "75%       2.000000     0.000000     2.000000\n",
       "max       5.000000     1.000000     3.000000"
      ]
     },
     "execution_count": 21,
     "metadata": {},
     "output_type": "execute_result"
    }
   ],
   "source": [
    "df1.describe() "
   ]
  },
  {
   "cell_type": "code",
   "execution_count": 22,
   "id": "1d39afb2",
   "metadata": {},
   "outputs": [
    {
     "data": {
      "text/html": [
       "<div>\n",
       "<style scoped>\n",
       "    .dataframe tbody tr th:only-of-type {\n",
       "        vertical-align: middle;\n",
       "    }\n",
       "\n",
       "    .dataframe tbody tr th {\n",
       "        vertical-align: top;\n",
       "    }\n",
       "\n",
       "    .dataframe thead th {\n",
       "        text-align: right;\n",
       "    }\n",
       "</style>\n",
       "<table border=\"1\" class=\"dataframe\">\n",
       "  <thead>\n",
       "    <tr style=\"text-align: right;\">\n",
       "      <th></th>\n",
       "      <th>age</th>\n",
       "      <th>sex</th>\n",
       "      <th>bmi</th>\n",
       "      <th>charges in INR</th>\n",
       "    </tr>\n",
       "  </thead>\n",
       "  <tbody>\n",
       "    <tr>\n",
       "      <th>count</th>\n",
       "      <td>1338.000000</td>\n",
       "      <td>1338.000000</td>\n",
       "      <td>1338.000000</td>\n",
       "      <td>1338.000000</td>\n",
       "    </tr>\n",
       "    <tr>\n",
       "      <th>mean</th>\n",
       "      <td>39.207025</td>\n",
       "      <td>0.505232</td>\n",
       "      <td>30.663397</td>\n",
       "      <td>13270.422265</td>\n",
       "    </tr>\n",
       "    <tr>\n",
       "      <th>std</th>\n",
       "      <td>14.049960</td>\n",
       "      <td>0.500160</td>\n",
       "      <td>6.098187</td>\n",
       "      <td>12110.011237</td>\n",
       "    </tr>\n",
       "    <tr>\n",
       "      <th>min</th>\n",
       "      <td>18.000000</td>\n",
       "      <td>0.000000</td>\n",
       "      <td>15.960000</td>\n",
       "      <td>1121.873900</td>\n",
       "    </tr>\n",
       "    <tr>\n",
       "      <th>25%</th>\n",
       "      <td>27.000000</td>\n",
       "      <td>0.000000</td>\n",
       "      <td>26.296250</td>\n",
       "      <td>4740.287150</td>\n",
       "    </tr>\n",
       "    <tr>\n",
       "      <th>50%</th>\n",
       "      <td>39.000000</td>\n",
       "      <td>1.000000</td>\n",
       "      <td>30.400000</td>\n",
       "      <td>9382.033000</td>\n",
       "    </tr>\n",
       "    <tr>\n",
       "      <th>75%</th>\n",
       "      <td>51.000000</td>\n",
       "      <td>1.000000</td>\n",
       "      <td>34.693750</td>\n",
       "      <td>16639.912515</td>\n",
       "    </tr>\n",
       "    <tr>\n",
       "      <th>max</th>\n",
       "      <td>64.000000</td>\n",
       "      <td>1.000000</td>\n",
       "      <td>53.130000</td>\n",
       "      <td>63770.428010</td>\n",
       "    </tr>\n",
       "  </tbody>\n",
       "</table>\n",
       "</div>"
      ],
      "text/plain": [
       "               age          sex          bmi  charges in INR\n",
       "count  1338.000000  1338.000000  1338.000000     1338.000000\n",
       "mean     39.207025     0.505232    30.663397    13270.422265\n",
       "std      14.049960     0.500160     6.098187    12110.011237\n",
       "min      18.000000     0.000000    15.960000     1121.873900\n",
       "25%      27.000000     0.000000    26.296250     4740.287150\n",
       "50%      39.000000     1.000000    30.400000     9382.033000\n",
       "75%      51.000000     1.000000    34.693750    16639.912515\n",
       "max      64.000000     1.000000    53.130000    63770.428010"
      ]
     },
     "execution_count": 22,
     "metadata": {},
     "output_type": "execute_result"
    }
   ],
   "source": [
    "df2.describe()"
   ]
  },
  {
   "cell_type": "markdown",
   "id": "e622bb73",
   "metadata": {},
   "source": [
    "### Joining two dataframes "
   ]
  },
  {
   "cell_type": "code",
   "execution_count": 23,
   "id": "b52e60d9",
   "metadata": {},
   "outputs": [],
   "source": [
    "new_df = pd.merge(df1,df2, on=\"Policy no.\")"
   ]
  },
  {
   "cell_type": "code",
   "execution_count": 24,
   "id": "69523f38",
   "metadata": {},
   "outputs": [
    {
     "data": {
      "text/html": [
       "<div>\n",
       "<style scoped>\n",
       "    .dataframe tbody tr th:only-of-type {\n",
       "        vertical-align: middle;\n",
       "    }\n",
       "\n",
       "    .dataframe tbody tr th {\n",
       "        vertical-align: top;\n",
       "    }\n",
       "\n",
       "    .dataframe thead th {\n",
       "        text-align: right;\n",
       "    }\n",
       "</style>\n",
       "<table border=\"1\" class=\"dataframe\">\n",
       "  <thead>\n",
       "    <tr style=\"text-align: right;\">\n",
       "      <th></th>\n",
       "      <th>Policy no.</th>\n",
       "      <th>children</th>\n",
       "      <th>smoker</th>\n",
       "      <th>region</th>\n",
       "      <th>age</th>\n",
       "      <th>sex</th>\n",
       "      <th>bmi</th>\n",
       "      <th>charges in INR</th>\n",
       "    </tr>\n",
       "  </thead>\n",
       "  <tbody>\n",
       "    <tr>\n",
       "      <th>0</th>\n",
       "      <td>PLC157006</td>\n",
       "      <td>0</td>\n",
       "      <td>0</td>\n",
       "      <td>3</td>\n",
       "      <td>23</td>\n",
       "      <td>1</td>\n",
       "      <td>34.4</td>\n",
       "      <td>1826.843</td>\n",
       "    </tr>\n",
       "    <tr>\n",
       "      <th>1</th>\n",
       "      <td>PLC157033</td>\n",
       "      <td>1</td>\n",
       "      <td>0</td>\n",
       "      <td>3</td>\n",
       "      <td>19</td>\n",
       "      <td>1</td>\n",
       "      <td>24.6</td>\n",
       "      <td>1837.237</td>\n",
       "    </tr>\n",
       "    <tr>\n",
       "      <th>2</th>\n",
       "      <td>PLC157060</td>\n",
       "      <td>0</td>\n",
       "      <td>0</td>\n",
       "      <td>3</td>\n",
       "      <td>56</td>\n",
       "      <td>1</td>\n",
       "      <td>40.3</td>\n",
       "      <td>10602.385</td>\n",
       "    </tr>\n",
       "    <tr>\n",
       "      <th>3</th>\n",
       "      <td>PLC157087</td>\n",
       "      <td>1</td>\n",
       "      <td>0</td>\n",
       "      <td>3</td>\n",
       "      <td>30</td>\n",
       "      <td>0</td>\n",
       "      <td>32.4</td>\n",
       "      <td>4149.736</td>\n",
       "    </tr>\n",
       "    <tr>\n",
       "      <th>4</th>\n",
       "      <td>PLC157186</td>\n",
       "      <td>5</td>\n",
       "      <td>0</td>\n",
       "      <td>3</td>\n",
       "      <td>19</td>\n",
       "      <td>0</td>\n",
       "      <td>28.6</td>\n",
       "      <td>4687.797</td>\n",
       "    </tr>\n",
       "  </tbody>\n",
       "</table>\n",
       "</div>"
      ],
      "text/plain": [
       "  Policy no.  children  smoker  region  age  sex   bmi  charges in INR\n",
       "0  PLC157006         0       0       3   23    1  34.4        1826.843\n",
       "1  PLC157033         1       0       3   19    1  24.6        1837.237\n",
       "2  PLC157060         0       0       3   56    1  40.3       10602.385\n",
       "3  PLC157087         1       0       3   30    0  32.4        4149.736\n",
       "4  PLC157186         5       0       3   19    0  28.6        4687.797"
      ]
     },
     "execution_count": 24,
     "metadata": {},
     "output_type": "execute_result"
    }
   ],
   "source": [
    "new_df.head()"
   ]
  },
  {
   "cell_type": "code",
   "execution_count": 25,
   "id": "09c6309d",
   "metadata": {},
   "outputs": [],
   "source": [
    "new_df= new_df.drop(['Policy no.'], axis = 1)"
   ]
  },
  {
   "cell_type": "code",
   "execution_count": 26,
   "id": "8df80fa6",
   "metadata": {},
   "outputs": [
    {
     "data": {
      "text/html": [
       "<div>\n",
       "<style scoped>\n",
       "    .dataframe tbody tr th:only-of-type {\n",
       "        vertical-align: middle;\n",
       "    }\n",
       "\n",
       "    .dataframe tbody tr th {\n",
       "        vertical-align: top;\n",
       "    }\n",
       "\n",
       "    .dataframe thead th {\n",
       "        text-align: right;\n",
       "    }\n",
       "</style>\n",
       "<table border=\"1\" class=\"dataframe\">\n",
       "  <thead>\n",
       "    <tr style=\"text-align: right;\">\n",
       "      <th></th>\n",
       "      <th>children</th>\n",
       "      <th>smoker</th>\n",
       "      <th>region</th>\n",
       "      <th>age</th>\n",
       "      <th>sex</th>\n",
       "      <th>bmi</th>\n",
       "      <th>charges in INR</th>\n",
       "    </tr>\n",
       "  </thead>\n",
       "  <tbody>\n",
       "    <tr>\n",
       "      <th>0</th>\n",
       "      <td>0</td>\n",
       "      <td>0</td>\n",
       "      <td>3</td>\n",
       "      <td>23</td>\n",
       "      <td>1</td>\n",
       "      <td>34.4</td>\n",
       "      <td>1826.843</td>\n",
       "    </tr>\n",
       "    <tr>\n",
       "      <th>1</th>\n",
       "      <td>1</td>\n",
       "      <td>0</td>\n",
       "      <td>3</td>\n",
       "      <td>19</td>\n",
       "      <td>1</td>\n",
       "      <td>24.6</td>\n",
       "      <td>1837.237</td>\n",
       "    </tr>\n",
       "    <tr>\n",
       "      <th>2</th>\n",
       "      <td>0</td>\n",
       "      <td>0</td>\n",
       "      <td>3</td>\n",
       "      <td>56</td>\n",
       "      <td>1</td>\n",
       "      <td>40.3</td>\n",
       "      <td>10602.385</td>\n",
       "    </tr>\n",
       "    <tr>\n",
       "      <th>3</th>\n",
       "      <td>1</td>\n",
       "      <td>0</td>\n",
       "      <td>3</td>\n",
       "      <td>30</td>\n",
       "      <td>0</td>\n",
       "      <td>32.4</td>\n",
       "      <td>4149.736</td>\n",
       "    </tr>\n",
       "    <tr>\n",
       "      <th>4</th>\n",
       "      <td>5</td>\n",
       "      <td>0</td>\n",
       "      <td>3</td>\n",
       "      <td>19</td>\n",
       "      <td>0</td>\n",
       "      <td>28.6</td>\n",
       "      <td>4687.797</td>\n",
       "    </tr>\n",
       "  </tbody>\n",
       "</table>\n",
       "</div>"
      ],
      "text/plain": [
       "   children  smoker  region  age  sex   bmi  charges in INR\n",
       "0         0       0       3   23    1  34.4        1826.843\n",
       "1         1       0       3   19    1  24.6        1837.237\n",
       "2         0       0       3   56    1  40.3       10602.385\n",
       "3         1       0       3   30    0  32.4        4149.736\n",
       "4         5       0       3   19    0  28.6        4687.797"
      ]
     },
     "execution_count": 26,
     "metadata": {},
     "output_type": "execute_result"
    }
   ],
   "source": [
    "new_df.head()"
   ]
  },
  {
   "cell_type": "code",
   "execution_count": 27,
   "id": "6677661a",
   "metadata": {},
   "outputs": [
    {
     "data": {
      "text/plain": [
       "Index(['children', 'smoker', 'region', 'age', 'sex', 'bmi', 'charges in INR'], dtype='object')"
      ]
     },
     "execution_count": 27,
     "metadata": {},
     "output_type": "execute_result"
    }
   ],
   "source": [
    "new_df.columns"
   ]
  },
  {
   "cell_type": "markdown",
   "id": "f55247e6",
   "metadata": {},
   "source": [
    "## Building a custom summary function for EDA."
   ]
  },
  {
   "cell_type": "code",
   "execution_count": 28,
   "id": "d2725c6a",
   "metadata": {},
   "outputs": [],
   "source": [
    "def describe(my_id):\n",
    "    cols = []\n",
    "    for i in my_id.columns:\n",
    "        if my_id[i].dtype != object:\n",
    "            cols.append(i)\n",
    "    result = pd.DataFrame(columns= cols, index= ['Datatype', 'Count', 'Min', 'Q1', 'Q2', 'Mean', 'Q3', 'Max', 'Std',\n",
    "                                                 'Skewness', 'Kurtosis', 'Range', 'IQR', 'Skewness comment', 'Outlier comment',\n",
    "                                                'Kurtosis comment'])\n",
    "    for i in result.columns:\n",
    "        result.loc['Datatype',i] = my_id[i].dtype\n",
    "        result.loc['Count',i] = my_id[i].count()\n",
    "        result.loc['Min',i] = my_id[i].min()\n",
    "        result.loc['Q1',i] = my_id[i].quantile(0.25)\n",
    "        result.loc['Q2',i] =my_id[i].quantile(0.5)\n",
    "        result.loc['Mean',i] =round(my_id[i].mean(),2)\n",
    "        result.loc['Q3',i] =my_id[i].quantile(0.75)\n",
    "        result.loc['Max',i] =my_id[i].max()\n",
    "        result.loc['Std',i] =round(my_id[i].std(),2)\n",
    "        result.loc['Skewness',i] =round(my_id[i].skew(),2)\n",
    "        result.loc['Kurtosis',i] =round(my_id[i].kurt(),2)\n",
    "        result.loc['Range',i] = my_id[i].max() - my_id[i].min()\n",
    "        result.loc['IQR',i] = my_id[i].quantile(0.75) - my_id[i].quantile(0.25)\n",
    "        \n",
    "        \n",
    "        #Adding comments for skewness\n",
    "        if result.loc['Skewness', i] <= -1:\n",
    "            sk_label = 'Highly negatively skewed'\n",
    "        elif -1  < result.loc['Skewness', i] <= -0.5:\n",
    "            sk_label = 'Moderatively negatively Skewed'\n",
    "        elif -0.5  < result.loc['Skewness', i] < 0:\n",
    "            sk_label = 'Approximately Normal distribution(-ve)'\n",
    "        elif 0  <= result.loc['Skewness', i] < 0.5:\n",
    "            sk_label = 'Approximately Normal distribution(+ve)'\n",
    "        elif 0.5  <= result.loc['Skewness', i] < 1:\n",
    "            sk_label = 'Moderatively positively Skewed'\n",
    "        elif result.loc['Skewness', i] >= 1:\n",
    "            sk_label = 'Highly positively Skewed'\n",
    "        else:\n",
    "            sk_label = 'Error'\n",
    "            \n",
    "        result.loc['Skewness comment', i] = sk_label\n",
    "            \n",
    "            \n",
    "            \n",
    "         #Adding comments for Kurtosis\n",
    "        if result.loc['Kurtosis', i] <= -1:\n",
    "            kt_label = 'Highly platykurtic curve'\n",
    "        elif -1  < result.loc['Kurtosis', i] <= -0.5:\n",
    "            kt_label = 'Moderatively platykurtic curve'\n",
    "        elif -0.5  < result.loc['Kurtosis', i] < 0.5:\n",
    "            kt_label = 'Mesokurtic curve'\n",
    "        elif 0.5  <= result.loc['Kurtosis', i] < 1:\n",
    "            kt_label = 'Moderatively laptokurtic curve'\n",
    "        elif result.loc['Kurtosis', i] >= 1:\n",
    "            kt_label = 'Highly laptokurtic curve'\n",
    "        else:\n",
    "            kt_label = 'Error'\n",
    "            \n",
    "        result.loc['Kurtosis comment', i] = kt_label\n",
    "        \n",
    "        \n",
    "        #Adding comments for Outliers\n",
    "        upper_limit = result.loc['Q3', i]+ (1.5 * result.loc['IQR', i])\n",
    "        lower_limit = result.loc['Q1', i]- (1.5 * result.loc['IQR', i])\n",
    "        if len([x for x in  my_id[i] if x < lower_limit or x > upper_limit]) > 0:\n",
    "            outlier_label = 'Have outliers'\n",
    "        else:\n",
    "            outlier_label = 'No outliers'\n",
    "        result.loc['Outlier comment', i] = outlier_label\n",
    "    display(result)"
   ]
  },
  {
   "cell_type": "code",
   "execution_count": 29,
   "id": "072148e8",
   "metadata": {},
   "outputs": [
    {
     "data": {
      "text/html": [
       "<div>\n",
       "<style scoped>\n",
       "    .dataframe tbody tr th:only-of-type {\n",
       "        vertical-align: middle;\n",
       "    }\n",
       "\n",
       "    .dataframe tbody tr th {\n",
       "        vertical-align: top;\n",
       "    }\n",
       "\n",
       "    .dataframe thead th {\n",
       "        text-align: right;\n",
       "    }\n",
       "</style>\n",
       "<table border=\"1\" class=\"dataframe\">\n",
       "  <thead>\n",
       "    <tr style=\"text-align: right;\">\n",
       "      <th></th>\n",
       "      <th>children</th>\n",
       "      <th>smoker</th>\n",
       "      <th>region</th>\n",
       "      <th>age</th>\n",
       "      <th>sex</th>\n",
       "      <th>bmi</th>\n",
       "      <th>charges in INR</th>\n",
       "    </tr>\n",
       "  </thead>\n",
       "  <tbody>\n",
       "    <tr>\n",
       "      <th>Datatype</th>\n",
       "      <td>int64</td>\n",
       "      <td>int32</td>\n",
       "      <td>int32</td>\n",
       "      <td>int64</td>\n",
       "      <td>int32</td>\n",
       "      <td>float64</td>\n",
       "      <td>float64</td>\n",
       "    </tr>\n",
       "    <tr>\n",
       "      <th>Count</th>\n",
       "      <td>1338</td>\n",
       "      <td>1338</td>\n",
       "      <td>1338</td>\n",
       "      <td>1338</td>\n",
       "      <td>1338</td>\n",
       "      <td>1338</td>\n",
       "      <td>1338</td>\n",
       "    </tr>\n",
       "    <tr>\n",
       "      <th>Min</th>\n",
       "      <td>0</td>\n",
       "      <td>0</td>\n",
       "      <td>0</td>\n",
       "      <td>18</td>\n",
       "      <td>0</td>\n",
       "      <td>15.96</td>\n",
       "      <td>1121.8739</td>\n",
       "    </tr>\n",
       "    <tr>\n",
       "      <th>Q1</th>\n",
       "      <td>0.0</td>\n",
       "      <td>0.0</td>\n",
       "      <td>1.0</td>\n",
       "      <td>27.0</td>\n",
       "      <td>0.0</td>\n",
       "      <td>26.29625</td>\n",
       "      <td>4740.28715</td>\n",
       "    </tr>\n",
       "    <tr>\n",
       "      <th>Q2</th>\n",
       "      <td>1.0</td>\n",
       "      <td>0.0</td>\n",
       "      <td>2.0</td>\n",
       "      <td>39.0</td>\n",
       "      <td>1.0</td>\n",
       "      <td>30.4</td>\n",
       "      <td>9382.033</td>\n",
       "    </tr>\n",
       "    <tr>\n",
       "      <th>Mean</th>\n",
       "      <td>1.09</td>\n",
       "      <td>0.2</td>\n",
       "      <td>1.52</td>\n",
       "      <td>39.21</td>\n",
       "      <td>0.51</td>\n",
       "      <td>30.66</td>\n",
       "      <td>13270.42</td>\n",
       "    </tr>\n",
       "    <tr>\n",
       "      <th>Q3</th>\n",
       "      <td>2.0</td>\n",
       "      <td>0.0</td>\n",
       "      <td>2.0</td>\n",
       "      <td>51.0</td>\n",
       "      <td>1.0</td>\n",
       "      <td>34.69375</td>\n",
       "      <td>16639.912515</td>\n",
       "    </tr>\n",
       "    <tr>\n",
       "      <th>Max</th>\n",
       "      <td>5</td>\n",
       "      <td>1</td>\n",
       "      <td>3</td>\n",
       "      <td>64</td>\n",
       "      <td>1</td>\n",
       "      <td>53.13</td>\n",
       "      <td>63770.42801</td>\n",
       "    </tr>\n",
       "    <tr>\n",
       "      <th>Std</th>\n",
       "      <td>1.21</td>\n",
       "      <td>0.4</td>\n",
       "      <td>1.1</td>\n",
       "      <td>14.05</td>\n",
       "      <td>0.5</td>\n",
       "      <td>6.1</td>\n",
       "      <td>12110.01</td>\n",
       "    </tr>\n",
       "    <tr>\n",
       "      <th>Skewness</th>\n",
       "      <td>0.94</td>\n",
       "      <td>1.46</td>\n",
       "      <td>-0.04</td>\n",
       "      <td>0.06</td>\n",
       "      <td>-0.02</td>\n",
       "      <td>0.28</td>\n",
       "      <td>1.52</td>\n",
       "    </tr>\n",
       "    <tr>\n",
       "      <th>Kurtosis</th>\n",
       "      <td>0.2</td>\n",
       "      <td>0.15</td>\n",
       "      <td>-1.33</td>\n",
       "      <td>-1.25</td>\n",
       "      <td>-2.0</td>\n",
       "      <td>-0.05</td>\n",
       "      <td>1.61</td>\n",
       "    </tr>\n",
       "    <tr>\n",
       "      <th>Range</th>\n",
       "      <td>5</td>\n",
       "      <td>1</td>\n",
       "      <td>3</td>\n",
       "      <td>46</td>\n",
       "      <td>1</td>\n",
       "      <td>37.17</td>\n",
       "      <td>62648.55411</td>\n",
       "    </tr>\n",
       "    <tr>\n",
       "      <th>IQR</th>\n",
       "      <td>2.0</td>\n",
       "      <td>0.0</td>\n",
       "      <td>1.0</td>\n",
       "      <td>24.0</td>\n",
       "      <td>1.0</td>\n",
       "      <td>8.3975</td>\n",
       "      <td>11899.625365</td>\n",
       "    </tr>\n",
       "    <tr>\n",
       "      <th>Skewness comment</th>\n",
       "      <td>Moderatively positively Skewed</td>\n",
       "      <td>Highly positively Skewed</td>\n",
       "      <td>Approximately Normal distribution(-ve)</td>\n",
       "      <td>Approximately Normal distribution(+ve)</td>\n",
       "      <td>Approximately Normal distribution(-ve)</td>\n",
       "      <td>Approximately Normal distribution(+ve)</td>\n",
       "      <td>Highly positively Skewed</td>\n",
       "    </tr>\n",
       "    <tr>\n",
       "      <th>Outlier comment</th>\n",
       "      <td>No outliers</td>\n",
       "      <td>Have outliers</td>\n",
       "      <td>No outliers</td>\n",
       "      <td>No outliers</td>\n",
       "      <td>No outliers</td>\n",
       "      <td>Have outliers</td>\n",
       "      <td>Have outliers</td>\n",
       "    </tr>\n",
       "    <tr>\n",
       "      <th>Kurtosis comment</th>\n",
       "      <td>Mesokurtic curve</td>\n",
       "      <td>Mesokurtic curve</td>\n",
       "      <td>Highly platykurtic curve</td>\n",
       "      <td>Highly platykurtic curve</td>\n",
       "      <td>Highly platykurtic curve</td>\n",
       "      <td>Mesokurtic curve</td>\n",
       "      <td>Highly laptokurtic curve</td>\n",
       "    </tr>\n",
       "  </tbody>\n",
       "</table>\n",
       "</div>"
      ],
      "text/plain": [
       "                                        children                    smoker  \\\n",
       "Datatype                                   int64                     int32   \n",
       "Count                                       1338                      1338   \n",
       "Min                                            0                         0   \n",
       "Q1                                           0.0                       0.0   \n",
       "Q2                                           1.0                       0.0   \n",
       "Mean                                        1.09                       0.2   \n",
       "Q3                                           2.0                       0.0   \n",
       "Max                                            5                         1   \n",
       "Std                                         1.21                       0.4   \n",
       "Skewness                                    0.94                      1.46   \n",
       "Kurtosis                                     0.2                      0.15   \n",
       "Range                                          5                         1   \n",
       "IQR                                          2.0                       0.0   \n",
       "Skewness comment  Moderatively positively Skewed  Highly positively Skewed   \n",
       "Outlier comment                      No outliers             Have outliers   \n",
       "Kurtosis comment                Mesokurtic curve          Mesokurtic curve   \n",
       "\n",
       "                                                  region  \\\n",
       "Datatype                                           int32   \n",
       "Count                                               1338   \n",
       "Min                                                    0   \n",
       "Q1                                                   1.0   \n",
       "Q2                                                   2.0   \n",
       "Mean                                                1.52   \n",
       "Q3                                                   2.0   \n",
       "Max                                                    3   \n",
       "Std                                                  1.1   \n",
       "Skewness                                           -0.04   \n",
       "Kurtosis                                           -1.33   \n",
       "Range                                                  3   \n",
       "IQR                                                  1.0   \n",
       "Skewness comment  Approximately Normal distribution(-ve)   \n",
       "Outlier comment                              No outliers   \n",
       "Kurtosis comment                Highly platykurtic curve   \n",
       "\n",
       "                                                     age  \\\n",
       "Datatype                                           int64   \n",
       "Count                                               1338   \n",
       "Min                                                   18   \n",
       "Q1                                                  27.0   \n",
       "Q2                                                  39.0   \n",
       "Mean                                               39.21   \n",
       "Q3                                                  51.0   \n",
       "Max                                                   64   \n",
       "Std                                                14.05   \n",
       "Skewness                                            0.06   \n",
       "Kurtosis                                           -1.25   \n",
       "Range                                                 46   \n",
       "IQR                                                 24.0   \n",
       "Skewness comment  Approximately Normal distribution(+ve)   \n",
       "Outlier comment                              No outliers   \n",
       "Kurtosis comment                Highly platykurtic curve   \n",
       "\n",
       "                                                     sex  \\\n",
       "Datatype                                           int32   \n",
       "Count                                               1338   \n",
       "Min                                                    0   \n",
       "Q1                                                   0.0   \n",
       "Q2                                                   1.0   \n",
       "Mean                                                0.51   \n",
       "Q3                                                   1.0   \n",
       "Max                                                    1   \n",
       "Std                                                  0.5   \n",
       "Skewness                                           -0.02   \n",
       "Kurtosis                                            -2.0   \n",
       "Range                                                  1   \n",
       "IQR                                                  1.0   \n",
       "Skewness comment  Approximately Normal distribution(-ve)   \n",
       "Outlier comment                              No outliers   \n",
       "Kurtosis comment                Highly platykurtic curve   \n",
       "\n",
       "                                                     bmi  \\\n",
       "Datatype                                         float64   \n",
       "Count                                               1338   \n",
       "Min                                                15.96   \n",
       "Q1                                              26.29625   \n",
       "Q2                                                  30.4   \n",
       "Mean                                               30.66   \n",
       "Q3                                              34.69375   \n",
       "Max                                                53.13   \n",
       "Std                                                  6.1   \n",
       "Skewness                                            0.28   \n",
       "Kurtosis                                           -0.05   \n",
       "Range                                              37.17   \n",
       "IQR                                               8.3975   \n",
       "Skewness comment  Approximately Normal distribution(+ve)   \n",
       "Outlier comment                            Have outliers   \n",
       "Kurtosis comment                        Mesokurtic curve   \n",
       "\n",
       "                            charges in INR  \n",
       "Datatype                           float64  \n",
       "Count                                 1338  \n",
       "Min                              1121.8739  \n",
       "Q1                              4740.28715  \n",
       "Q2                                9382.033  \n",
       "Mean                              13270.42  \n",
       "Q3                            16639.912515  \n",
       "Max                            63770.42801  \n",
       "Std                               12110.01  \n",
       "Skewness                              1.52  \n",
       "Kurtosis                              1.61  \n",
       "Range                          62648.55411  \n",
       "IQR                           11899.625365  \n",
       "Skewness comment  Highly positively Skewed  \n",
       "Outlier comment              Have outliers  \n",
       "Kurtosis comment  Highly laptokurtic curve  "
      ]
     },
     "metadata": {},
     "output_type": "display_data"
    }
   ],
   "source": [
    "describe(new_df)"
   ]
  },
  {
   "cell_type": "markdown",
   "id": "d0bfd411",
   "metadata": {},
   "source": [
    "### Anaysis:\n",
    "1- No missing Values in the data\n",
    "\n",
    "2- All the features are Numerical"
   ]
  },
  {
   "cell_type": "markdown",
   "id": "fa5d8011",
   "metadata": {},
   "source": [
    "## Multicollinearity Check"
   ]
  },
  {
   "cell_type": "markdown",
   "id": "87bbcecb",
   "metadata": {},
   "source": [
    "# performing Outlier Treatment"
   ]
  },
  {
   "cell_type": "code",
   "execution_count": 30,
   "id": "0a42f931",
   "metadata": {},
   "outputs": [],
   "source": [
    "corr1 = new_df.corr()\n"
   ]
  },
  {
   "cell_type": "code",
   "execution_count": 31,
   "id": "30788a50",
   "metadata": {},
   "outputs": [
    {
     "data": {
      "text/plain": [
       "<AxesSubplot:>"
      ]
     },
     "execution_count": 31,
     "metadata": {},
     "output_type": "execute_result"
    },
    {
     "data": {
      "image/png": "[encoded data removed]",
      "text/plain": [
       "<Figure size 576x576 with 2 Axes>"
      ]
     },
     "metadata": {
      "needs_background": "light"
     },
     "output_type": "display_data"
    }
   ],
   "source": [
    "f, ax = plt.subplots(figsize=(8,8))\n",
    "sns.heatmap(corr1, annot= True)\n"
   ]
  },
  {
   "cell_type": "code",
   "execution_count": 32,
   "id": "6e3b39ad",
   "metadata": {},
   "outputs": [
    {
     "data": {
      "image/png": "[encoded data removed]",
      "text/plain": [
       "<Figure size 720x720 with 9 Axes>"
      ]
     },
     "metadata": {
      "needs_background": "light"
     },
     "output_type": "display_data"
    }
   ],
   "source": [
    "new_df.hist(figsize=(10,10),edgecolor='black');"
   ]
  },
  {
   "cell_type": "markdown",
   "id": "1ebbee7c",
   "metadata": {},
   "source": [
    "#Analysis: High correlation is observed only with smoking"
   ]
  },
  {
   "cell_type": "code",
   "execution_count": null,
   "id": "9017c2c7",
   "metadata": {},
   "outputs": [],
   "source": []
  },
  {
   "cell_type": "code",
   "execution_count": 83,
   "id": "54710d61",
   "metadata": {},
   "outputs": [
    {
     "data": {
      "image/png": "[encoded data removed]",
      "text/plain": [
       "<Figure size 864x360 with 1 Axes>"
      ]
     },
     "metadata": {
      "needs_background": "light"
     },
     "output_type": "display_data"
    }
   ],
   "source": [
    "plt.figure(figsize=(12,5))\n",
    "plt.title(\"Age Distribution\")\n",
    "ax = sns.distplot(new_df[\"age\"], color = 'b')"
   ]
  },
  {
   "cell_type": "markdown",
   "id": "9e317f5c",
   "metadata": {},
   "source": [
    "#Analysis:\n",
    "- Min age: 18, Max age:64 \n"
   ]
  },
  {
   "cell_type": "code",
   "execution_count": 77,
   "id": "b1451864",
   "metadata": {},
   "outputs": [
    {
     "data": {
      "image/png": "[encoded data removed]",
      "text/plain": [
       "<Figure size 864x360 with 1 Axes>"
      ]
     },
     "metadata": {
      "needs_background": "light"
     },
     "output_type": "display_data"
    }
   ],
   "source": [
    "plt.figure(figsize=(12,5))\n",
    "plt.title(\"Bmi Distribution \")\n",
    "ax = sns.distplot(new_df[\"b`mi\"], color = 'm')"
   ]
  },
  {
   "cell_type": "code",
   "execution_count": 33,
   "id": "ad11e0f5",
   "metadata": {},
   "outputs": [
    {
     "data": {
      "text/plain": [
       "Text(0.5, 1.0, 'Region wise smokers count')"
      ]
     },
     "execution_count": 33,
     "metadata": {},
     "output_type": "execute_result"
    },
    {
     "data": {
      "image/png": "[encoded data removed]",
      "text/plain": [
       "<Figure size 1080x432 with 1 Axes>"
      ]
     },
     "metadata": {
      "needs_background": "light"
     },
     "output_type": "display_data"
    }
   ],
   "source": [
    "ax= plt.figure(figsize=(15,6))\n",
    "sb.barplot(x='region', y='smoker', data=new_df, palette='Spectral' )\n",
    "plt.title('Region waise smokers count')"
   ]
  },
  {
   "cell_type": "code",
   "execution_count": 34,
   "id": "69fd5e0b",
   "metadata": {},
   "outputs": [
    {
     "data": {
      "text/plain": [
       "Text(0.5, 1.0, 'Age wise BMI distribution')"
      ]
     },
     "execution_count": 34,
     "metadata": {},
     "output_type": "execute_result"
    },
    {
     "data": {
      "text/plain": [
       "<Figure size 1080x432 with 0 Axes>"
      ]
     },
     "metadata": {},
     "output_type": "display_data"
    },
    {
     "data": {
      "image/png": "[encoded data removed]",
      "text/plain": [
       "<Figure size 762.375x360 with 1 Axes>"
      ]
     },
     "metadata": {
      "needs_background": "light"
     },
     "output_type": "display_data"
    }
   ],
   "source": [
    "ax= plt.figure(figsize=(15,6))\n",
    "sb.lmplot(x='age', y= 'bmi',data=new_df, markers='.',hue='sex',height=5,aspect=2)\n",
    "plt.title('Age wise BMI distribution')"
   ]
  },
  {
   "cell_type": "code",
   "execution_count": 35,
   "id": "f592ca5f",
   "metadata": {},
   "outputs": [
    {
     "data": {
      "image/png": "[encoded data removed]",
      "text/plain": [
       "<Figure size 1728x432 with 1 Axes>"
      ]
     },
     "metadata": {
      "needs_background": "light"
     },
     "output_type": "display_data"
    }
   ],
   "source": [
    "f = plt.figure(figsize=(24,6))\n",
    "ax = f.add_subplot(122)\n",
    "sns.scatterplot(x='bmi',y='charges in INR',data=new_df,palette='viridis',hue='smoker')\n",
    "plt.xlabel('0: Not a smoker, 1: smoker')\n",
    "ax.set_title('Scatter plot of Charges vs bmi')\n",
    "plt.savefig('sc.png');"
   ]
  },
  {
   "cell_type": "markdown",
   "id": "fa0bf8bd",
   "metadata": {},
   "source": [
    "#### Analysis\n",
    "\n",
    "a)Most of the people who smoke are obese people\n",
    "\n",
    "b)Even though a person is not obese but he/she smokes, his/her charges tends to be higher."
   ]
  },
  {
   "cell_type": "code",
   "execution_count": 62,
   "id": "3d2f9822",
   "metadata": {},
   "outputs": [
    {
     "data": {
      "text/plain": [
       "Text(0.5, 1.0, 'Distribution of charges for non-smokers')"
      ]
     },
     "execution_count": 62,
     "metadata": {},
     "output_type": "execute_result"
    },
    {
     "data": {
      "image/png": "[encoded data removed]",
      "text/plain": [
       "<Figure size 864x360 with 2 Axes>"
      ]
     },
     "metadata": {
      "needs_background": "light"
     },
     "output_type": "display_data"
    }
   ],
   "source": [
    "f= plt.figure(figsize=(12,5))\n",
    "\n",
    "ax=f.add_subplot(121)\n",
    "sns.distplot(new_df[(new_df.smoker == 1)][\"charges in INR\"],color='c',ax=ax)\n",
    "ax.set_title('Distribution of charges for smokers')\n",
    "\n",
    "ax=f.add_subplot(122)\n",
    "sns.distplot(new_df[(new_df.smoker == 0)]['charges in INR'],color='b',ax=ax)\n",
    "ax.set_title('Distribution of charges for non-smokers')"
   ]
  },
  {
   "cell_type": "markdown",
   "id": "638a6e1b",
   "metadata": {},
   "source": [
    "#### Analysis:  \n",
    "Those who are Smoking patients spend more on medical treatment whereas the number of non-smoking patients is greater.\n",
    "    "
   ]
  },
  {
   "cell_type": "code",
   "execution_count": 37,
   "id": "dda867b4",
   "metadata": {},
   "outputs": [
    {
     "data": {
      "text/plain": [
       "1    676\n",
       "0    662\n",
       "Name: sex, dtype: int64"
      ]
     },
     "execution_count": 37,
     "metadata": {},
     "output_type": "execute_result"
    }
   ],
   "source": [
    "new_df.sex.value_counts()"
   ]
  },
  {
   "cell_type": "code",
   "execution_count": 38,
   "id": "f397a453",
   "metadata": {},
   "outputs": [
    {
     "data": {
      "text/plain": [
       "array([0, 1])"
      ]
     },
     "execution_count": 38,
     "metadata": {},
     "output_type": "execute_result"
    }
   ],
   "source": [
    "df2.sex.unique()"
   ]
  },
  {
   "cell_type": "code",
   "execution_count": 39,
   "id": "230bd72c",
   "metadata": {},
   "outputs": [
    {
     "data": {
      "text/plain": [
       "array([0, 1])"
      ]
     },
     "execution_count": 39,
     "metadata": {},
     "output_type": "execute_result"
    }
   ],
   "source": [
    "df1.smoker.unique()"
   ]
  },
  {
   "cell_type": "code",
   "execution_count": 66,
   "id": "5db651ee",
   "metadata": {},
   "outputs": [
    {
     "data": {
      "text/plain": [
       "Text(0.5, 6.79999999999999, '0:Male, 1: Female')"
      ]
     },
     "execution_count": 66,
     "metadata": {},
     "output_type": "execute_result"
    },
    {
     "data": {
      "image/png": "[encoded data removed]",
      "text/plain": [
       "<Figure size 402.375x360 with 1 Axes>"
      ]
     },
     "metadata": {
      "needs_background": "light"
     },
     "output_type": "display_data"
    }
   ],
   "source": [
    "sns.catplot(x=\"smoker\", kind=\"count\",hue = 'sex', palette=\"pink\", data=new_df)\n",
    "plt.xlabel('0:Male, 1: Female') "
   ]
  },
  {
   "cell_type": "markdown",
   "id": "9abf3621",
   "metadata": {},
   "source": [
    "#### Analysis:\n",
    "- Males tend to smoke more than female\n",
    "- We can assume that the total cost of treatment in Male will be more than in Female"
   ]
  },
  {
   "cell_type": "code",
   "execution_count": 68,
   "id": "17bf4af3",
   "metadata": {},
   "outputs": [
    {
     "data": {
      "text/plain": [
       "<seaborn.axisgrid.FacetGrid at 0x21bacc5d670>"
      ]
     },
     "execution_count": 68,
     "metadata": {},
     "output_type": "execute_result"
    },
    {
     "data": {
      "image/png": "[encoded data removed]",
      "text/plain": [
       "<Figure size 404.5x360 with 1 Axes>"
      ]
     },
     "metadata": {
      "needs_background": "light"
     },
     "output_type": "display_data"
    }
   ],
   "source": [
    "sns.catplot(x=\"sex\", y=\"charges in INR\", hue=\"smoker\",\n",
    "            kind=\"box\", data=new_df, palette = 'magma')"
   ]
  },
  {
   "cell_type": "code",
   "execution_count": 41,
   "id": "591516ef",
   "metadata": {},
   "outputs": [
    {
     "data": {
      "image/png": "[encoded data removed]",
      "text/plain": [
       "<Figure size 360x360 with 1 Axes>"
      ]
     },
     "metadata": {
      "needs_background": "light"
     },
     "output_type": "display_data"
    }
   ],
   "source": [
    "plt.figure(figsize=(5,5))\n",
    "plt.grid()\n",
    "sns.countplot(x='region', data= new_df)\n",
    "plt.title(\"Region\", fontsize=15)\n",
    "plt.show()"
   ]
  },
  {
   "cell_type": "code",
   "execution_count": 73,
   "id": "4e3dde7b",
   "metadata": {},
   "outputs": [
    {
     "data": {
      "text/plain": [
       "<AxesSubplot:title={'center':'Box plot for charges of Female'}, xlabel='charges in INR', ylabel='smoker'>"
      ]
     },
     "execution_count": 73,
     "metadata": {},
     "output_type": "execute_result"
    },
    {
     "data": {
      "image/png": "[encoded data removed]",
      "text/plain": [
       "<Figure size 864x360 with 1 Axes>"
      ]
     },
     "metadata": {
      "needs_background": "light"
     },
     "output_type": "display_data"
    }
   ],
   "source": [
    "plt.figure(figsize=(12,5))\n",
    "plt.title(\"Box plot for charges of Male\")\n",
    "sns.boxplot(y=\"smoker\", x=\"charges in INR\", data = new_df[(new_df.sex == 0)] , orient=\"h\", palette = 'magma')"
   ]
  },
  {
   "cell_type": "code",
   "execution_count": 74,
   "id": "3e956336",
   "metadata": {},
   "outputs": [
    {
     "data": {
      "text/plain": [
       "<AxesSubplot:title={'center':'Box plot for charges of Male'}, xlabel='charges in INR', ylabel='smoker'>"
      ]
     },
     "execution_count": 74,
     "metadata": {},
     "output_type": "execute_result"
    },
    {
     "data": {
      "image/png": "[encoded data removed]",
      "text/plain": [
       "<Figure size 864x360 with 1 Axes>"
      ]
     },
     "metadata": {
      "needs_background": "light"
     },
     "output_type": "display_data"
    }
   ],
   "source": [
    "plt.figure(figsize=(12,5))\n",
    "plt.title(\"Box plot for charges of Male\")\n",
    "sns.boxplot(y=\"smoker\", x=\"charges in INR\", data = new_df[(new_df.sex == 1)] , orient=\"h\", palette = 'magma')"
   ]
  },
  {
   "cell_type": "code",
   "execution_count": 42,
   "id": "0e773f1a",
   "metadata": {},
   "outputs": [
    {
     "data": {
      "text/plain": [
       "Text(0.5, 1.0, 'Age vs BMI')"
      ]
     },
     "execution_count": 42,
     "metadata": {},
     "output_type": "execute_result"
    },
    {
     "data": {
      "image/png": "[encoded data removed]",
      "text/plain": [
       "<Figure size 432x288 with 1 Axes>"
      ]
     },
     "metadata": {
      "needs_background": "light"
     },
     "output_type": "display_data"
    }
   ],
   "source": [
    "sns.scatterplot(data=new_df, x='age', y='bmi')\n",
    "plt.title('Age vs BMI')"
   ]
  },
  {
   "cell_type": "markdown",
   "id": "1bcb3abb",
   "metadata": {},
   "source": [
    "### Conclusion:\n",
    "Region and gender does not bring significant difference on charges among its groups. Age, BMI, number of children and smoking are the once that drives the charges."
   ]
  },
  {
   "cell_type": "markdown",
   "id": "17d44dae",
   "metadata": {},
   "source": [
    "## Train/Test split\n",
    "1. Split data into two part : a training set and a testing set\n",
    "2. Training the model on training set\n",
    "3. Testing the Model on Testing set"
   ]
  },
  {
   "cell_type": "code",
   "execution_count": 43,
   "id": "57c9697d",
   "metadata": {},
   "outputs": [
    {
     "data": {
      "text/html": [
       "<div>\n",
       "<style scoped>\n",
       "    .dataframe tbody tr th:only-of-type {\n",
       "        vertical-align: middle;\n",
       "    }\n",
       "\n",
       "    .dataframe tbody tr th {\n",
       "        vertical-align: top;\n",
       "    }\n",
       "\n",
       "    .dataframe thead th {\n",
       "        text-align: right;\n",
       "    }\n",
       "</style>\n",
       "<table border=\"1\" class=\"dataframe\">\n",
       "  <thead>\n",
       "    <tr style=\"text-align: right;\">\n",
       "      <th></th>\n",
       "      <th>children</th>\n",
       "      <th>smoker</th>\n",
       "      <th>region</th>\n",
       "      <th>age</th>\n",
       "      <th>sex</th>\n",
       "      <th>bmi</th>\n",
       "      <th>charges in INR</th>\n",
       "    </tr>\n",
       "  </thead>\n",
       "  <tbody>\n",
       "    <tr>\n",
       "      <th>0</th>\n",
       "      <td>0</td>\n",
       "      <td>0</td>\n",
       "      <td>3</td>\n",
       "      <td>23</td>\n",
       "      <td>1</td>\n",
       "      <td>34.4</td>\n",
       "      <td>1826.843</td>\n",
       "    </tr>\n",
       "    <tr>\n",
       "      <th>1</th>\n",
       "      <td>1</td>\n",
       "      <td>0</td>\n",
       "      <td>3</td>\n",
       "      <td>19</td>\n",
       "      <td>1</td>\n",
       "      <td>24.6</td>\n",
       "      <td>1837.237</td>\n",
       "    </tr>\n",
       "    <tr>\n",
       "      <th>2</th>\n",
       "      <td>0</td>\n",
       "      <td>0</td>\n",
       "      <td>3</td>\n",
       "      <td>56</td>\n",
       "      <td>1</td>\n",
       "      <td>40.3</td>\n",
       "      <td>10602.385</td>\n",
       "    </tr>\n",
       "    <tr>\n",
       "      <th>3</th>\n",
       "      <td>1</td>\n",
       "      <td>0</td>\n",
       "      <td>3</td>\n",
       "      <td>30</td>\n",
       "      <td>0</td>\n",
       "      <td>32.4</td>\n",
       "      <td>4149.736</td>\n",
       "    </tr>\n",
       "    <tr>\n",
       "      <th>4</th>\n",
       "      <td>5</td>\n",
       "      <td>0</td>\n",
       "      <td>3</td>\n",
       "      <td>19</td>\n",
       "      <td>0</td>\n",
       "      <td>28.6</td>\n",
       "      <td>4687.797</td>\n",
       "    </tr>\n",
       "  </tbody>\n",
       "</table>\n",
       "</div>"
      ],
      "text/plain": [
       "   children  smoker  region  age  sex   bmi  charges in INR\n",
       "0         0       0       3   23    1  34.4        1826.843\n",
       "1         1       0       3   19    1  24.6        1837.237\n",
       "2         0       0       3   56    1  40.3       10602.385\n",
       "3         1       0       3   30    0  32.4        4149.736\n",
       "4         5       0       3   19    0  28.6        4687.797"
      ]
     },
     "execution_count": 43,
     "metadata": {},
     "output_type": "execute_result"
    }
   ],
   "source": [
    "new_df.head()"
   ]
  },
  {
   "cell_type": "code",
   "execution_count": 44,
   "id": "5f4879c0",
   "metadata": {},
   "outputs": [],
   "source": [
    "X =new_df.drop(['charges in INR'], axis = 1)\n",
    "y = new_df['charges in INR']"
   ]
  },
  {
   "cell_type": "code",
   "execution_count": 45,
   "id": "a38ecc40",
   "metadata": {},
   "outputs": [
    {
     "data": {
      "text/html": [
       "<div>\n",
       "<style scoped>\n",
       "    .dataframe tbody tr th:only-of-type {\n",
       "        vertical-align: middle;\n",
       "    }\n",
       "\n",
       "    .dataframe tbody tr th {\n",
       "        vertical-align: top;\n",
       "    }\n",
       "\n",
       "    .dataframe thead th {\n",
       "        text-align: right;\n",
       "    }\n",
       "</style>\n",
       "<table border=\"1\" class=\"dataframe\">\n",
       "  <thead>\n",
       "    <tr style=\"text-align: right;\">\n",
       "      <th></th>\n",
       "      <th>children</th>\n",
       "      <th>smoker</th>\n",
       "      <th>region</th>\n",
       "      <th>age</th>\n",
       "      <th>sex</th>\n",
       "      <th>bmi</th>\n",
       "    </tr>\n",
       "  </thead>\n",
       "  <tbody>\n",
       "    <tr>\n",
       "      <th>0</th>\n",
       "      <td>0</td>\n",
       "      <td>0</td>\n",
       "      <td>3</td>\n",
       "      <td>23</td>\n",
       "      <td>1</td>\n",
       "      <td>34.4</td>\n",
       "    </tr>\n",
       "    <tr>\n",
       "      <th>1</th>\n",
       "      <td>1</td>\n",
       "      <td>0</td>\n",
       "      <td>3</td>\n",
       "      <td>19</td>\n",
       "      <td>1</td>\n",
       "      <td>24.6</td>\n",
       "    </tr>\n",
       "    <tr>\n",
       "      <th>2</th>\n",
       "      <td>0</td>\n",
       "      <td>0</td>\n",
       "      <td>3</td>\n",
       "      <td>56</td>\n",
       "      <td>1</td>\n",
       "      <td>40.3</td>\n",
       "    </tr>\n",
       "    <tr>\n",
       "      <th>3</th>\n",
       "      <td>1</td>\n",
       "      <td>0</td>\n",
       "      <td>3</td>\n",
       "      <td>30</td>\n",
       "      <td>0</td>\n",
       "      <td>32.4</td>\n",
       "    </tr>\n",
       "    <tr>\n",
       "      <th>4</th>\n",
       "      <td>5</td>\n",
       "      <td>0</td>\n",
       "      <td>3</td>\n",
       "      <td>19</td>\n",
       "      <td>0</td>\n",
       "      <td>28.6</td>\n",
       "    </tr>\n",
       "  </tbody>\n",
       "</table>\n",
       "</div>"
      ],
      "text/plain": [
       "   children  smoker  region  age  sex   bmi\n",
       "0         0       0       3   23    1  34.4\n",
       "1         1       0       3   19    1  24.6\n",
       "2         0       0       3   56    1  40.3\n",
       "3         1       0       3   30    0  32.4\n",
       "4         5       0       3   19    0  28.6"
      ]
     },
     "execution_count": 45,
     "metadata": {},
     "output_type": "execute_result"
    }
   ],
   "source": [
    "X.head()"
   ]
  },
  {
   "cell_type": "code",
   "execution_count": 46,
   "id": "0a73a7c7",
   "metadata": {},
   "outputs": [
    {
     "data": {
      "text/plain": [
       "0     1826.843\n",
       "1     1837.237\n",
       "2    10602.385\n",
       "3     4149.736\n",
       "4     4687.797\n",
       "Name: charges in INR, dtype: float64"
      ]
     },
     "execution_count": 46,
     "metadata": {},
     "output_type": "execute_result"
    }
   ],
   "source": [
    "y.head()"
   ]
  },
  {
   "cell_type": "code",
   "execution_count": 47,
   "id": "91389dc3",
   "metadata": {},
   "outputs": [],
   "source": [
    "#X_train,X_test,y_train,y_test=train_test_split(X,y,test_size=0.5,random_state=32)"
   ]
  },
  {
   "cell_type": "code",
   "execution_count": 48,
   "id": "bf46f3e0",
   "metadata": {},
   "outputs": [],
   "source": [
    "#lr = LinearRegression()\n",
    "#lr.fit(X_train,y_train) "
   ]
  },
  {
   "cell_type": "code",
   "execution_count": 49,
   "id": "dfd46f16",
   "metadata": {},
   "outputs": [],
   "source": [
    "#pred = lr.predict(X_test)\n",
    "#mean_squared_error(y_test, pred)"
   ]
  },
  {
   "cell_type": "code",
   "execution_count": 50,
   "id": "45d0b90a",
   "metadata": {},
   "outputs": [],
   "source": [
    "def train_and_test_split(data, tcol, Test_size=0.2, Random_state = 42):\n",
    "    x = data.drop(tcol, axis= 1)\n",
    "    y = data[tcol]\n",
    "    return train_test_split(x, y, test_size= Test_size, random_state=Random_state)"
   ]
  },
  {
   "cell_type": "code",
   "execution_count": 51,
   "id": "3decc7f1",
   "metadata": {},
   "outputs": [],
   "source": [
    "def build_model(model_name, estimator, data, tcol):\n",
    "    xtrain, xtest, ytrain, ytest = train_and_test_split(data, tcol)\n",
    "    estimator.fit(xtrain, ytrain)\n",
    "    ypred = estimator.predict(xtest)\n",
    "    rmse = np.sqrt(mean_squared_error(ytest, ypred))\n",
    "    accuracy = r2_score(ytest, ypred)\n",
    "    return [model_name, rmse, accuracy]"
   ]
  },
  {
   "cell_type": "code",
   "execution_count": 52,
   "id": "42419ecb",
   "metadata": {},
   "outputs": [
    {
     "data": {
      "text/plain": [
       "['Linear Regression', 6182.162288729437, 0.7310354872877263]"
      ]
     },
     "execution_count": 52,
     "metadata": {},
     "output_type": "execute_result"
    }
   ],
   "source": [
    "build_model(model_name= 'Linear Regression', estimator= LinearRegression(), data= new_df, tcol= 'charges in INR')"
   ]
  },
  {
   "cell_type": "code",
   "execution_count": 53,
   "id": "5872d965",
   "metadata": {},
   "outputs": [],
   "source": [
    "def multiple_models(data, tcol):\n",
    "    colnames = ['model_name', 'rmse', 'r2_score']\n",
    "    result = pd.DataFrame(columns= colnames)\n",
    "    result.loc[len(result)] = build_model('Linear regression', LinearRegression(), data, tcol)\n",
    "    result.loc[len(result)] = build_model('Lasso regression', Lasso(), data, tcol)\n",
    "    result.loc[len(result)] = build_model('Ridge regression', Ridge(), data, tcol)\n",
    "    result.loc[len(result)] = build_model('SVR', SVR(), data, tcol)\n",
    "    result.loc[len(result)] = build_model('KNeighborsRegressor', KNeighborsRegressor(), data, tcol)\n",
    "    result.loc[len(result)] = build_model('RandomForestRegressor', RandomForestRegressor(), data, tcol)\n",
    "    result.loc[len(result)] = build_model('XGBRegressor', XGBRegressor(), data, tcol)\n",
    "    result.loc[len(result)] = build_model('DecisionTreeRegressor', DecisionTreeRegressor(), data, tcol)\n",
    "    result.loc[len(result)] = build_model('AdaBoostRegressor', AdaBoostRegressor(), data, tcol)\n",
    "    result.loc[len(result)] = build_model('GradientBoostingRegressor', GradientBoostingRegressor(), data, tcol)\n",
    "    \n",
    "    return result.sort_values('r2_score', ascending= False)"
   ]
  },
  {
   "cell_type": "code",
   "execution_count": 54,
   "id": "8fef2d7a",
   "metadata": {},
   "outputs": [
    {
     "data": {
      "text/html": [
       "<div>\n",
       "<style scoped>\n",
       "    .dataframe tbody tr th:only-of-type {\n",
       "        vertical-align: middle;\n",
       "    }\n",
       "\n",
       "    .dataframe tbody tr th {\n",
       "        vertical-align: top;\n",
       "    }\n",
       "\n",
       "    .dataframe thead th {\n",
       "        text-align: right;\n",
       "    }\n",
       "</style>\n",
       "<table border=\"1\" class=\"dataframe\">\n",
       "  <thead>\n",
       "    <tr style=\"text-align: right;\">\n",
       "      <th></th>\n",
       "      <th>model_name</th>\n",
       "      <th>rmse</th>\n",
       "      <th>r2_score</th>\n",
       "    </tr>\n",
       "  </thead>\n",
       "  <tbody>\n",
       "    <tr>\n",
       "      <th>9</th>\n",
       "      <td>GradientBoostingRegressor</td>\n",
       "      <td>4428.755329</td>\n",
       "      <td>0.861969</td>\n",
       "    </tr>\n",
       "    <tr>\n",
       "      <th>5</th>\n",
       "      <td>RandomForestRegressor</td>\n",
       "      <td>4686.850003</td>\n",
       "      <td>0.845412</td>\n",
       "    </tr>\n",
       "    <tr>\n",
       "      <th>6</th>\n",
       "      <td>XGBRegressor</td>\n",
       "      <td>5098.629331</td>\n",
       "      <td>0.817055</td>\n",
       "    </tr>\n",
       "    <tr>\n",
       "      <th>8</th>\n",
       "      <td>AdaBoostRegressor</td>\n",
       "      <td>5376.289514</td>\n",
       "      <td>0.796587</td>\n",
       "    </tr>\n",
       "    <tr>\n",
       "      <th>7</th>\n",
       "      <td>DecisionTreeRegressor</td>\n",
       "      <td>5917.678786</td>\n",
       "      <td>0.753557</td>\n",
       "    </tr>\n",
       "    <tr>\n",
       "      <th>2</th>\n",
       "      <td>Ridge regression</td>\n",
       "      <td>6177.264787</td>\n",
       "      <td>0.731461</td>\n",
       "    </tr>\n",
       "    <tr>\n",
       "      <th>1</th>\n",
       "      <td>Lasso regression</td>\n",
       "      <td>6182.111067</td>\n",
       "      <td>0.731040</td>\n",
       "    </tr>\n",
       "    <tr>\n",
       "      <th>0</th>\n",
       "      <td>Linear regression</td>\n",
       "      <td>6182.162289</td>\n",
       "      <td>0.731035</td>\n",
       "    </tr>\n",
       "    <tr>\n",
       "      <th>4</th>\n",
       "      <td>KNeighborsRegressor</td>\n",
       "      <td>11262.598802</td>\n",
       "      <td>0.107329</td>\n",
       "    </tr>\n",
       "    <tr>\n",
       "      <th>3</th>\n",
       "      <td>SVR</td>\n",
       "      <td>12688.837624</td>\n",
       "      <td>-0.133073</td>\n",
       "    </tr>\n",
       "  </tbody>\n",
       "</table>\n",
       "</div>"
      ],
      "text/plain": [
       "                  model_name          rmse  r2_score\n",
       "9  GradientBoostingRegressor   4428.755329  0.861969\n",
       "5      RandomForestRegressor   4686.850003  0.845412\n",
       "6               XGBRegressor   5098.629331  0.817055\n",
       "8          AdaBoostRegressor   5376.289514  0.796587\n",
       "7      DecisionTreeRegressor   5917.678786  0.753557\n",
       "2           Ridge regression   6177.264787  0.731461\n",
       "1           Lasso regression   6182.111067  0.731040\n",
       "0          Linear regression   6182.162289  0.731035\n",
       "4        KNeighborsRegressor  11262.598802  0.107329\n",
       "3                        SVR  12688.837624 -0.133073"
      ]
     },
     "execution_count": 54,
     "metadata": {},
     "output_type": "execute_result"
    }
   ],
   "source": [
    "multiple_models(data=new_df, tcol='charges in INR')"
   ]
  },
  {
   "cell_type": "code",
   "execution_count": null,
   "id": "664e7b42",
   "metadata": {},
   "outputs": [],
   "source": []
  },
  {
   "cell_type": "markdown",
   "id": "057ccc61",
   "metadata": {},
   "source": [
    "# Cross Validation"
   ]
  },
  {
   "cell_type": "code",
   "execution_count": 55,
   "id": "725c89c0",
   "metadata": {},
   "outputs": [],
   "source": [
    "def K_fold_CV(x, y, fold=10):\n",
    "    score_lr = cross_val_score(LinearRegression(), x, y, cv= fold)\n",
    "    score_la = cross_val_score(Lasso(), x, y, cv= fold)\n",
    "    score_ri = cross_val_score(Ridge(), x, y, cv= fold)\n",
    "    score_svr = cross_val_score(SVR(), x, y, cv= fold)\n",
    "    score_dt = cross_val_score(DecisionTreeRegressor(), x, y, cv= fold)\n",
    "    score_knn = cross_val_score(KNeighborsRegressor(), x, y, cv= fold)\n",
    "    score_rm = cross_val_score(RandomForestRegressor(), x, y, cv= fold)\n",
    "    score_ad = cross_val_score(AdaBoostRegressor(), x, y, cv= fold)\n",
    "    score_gr = cross_val_score(GradientBoostingRegressor(), x, y, cv= fold)\n",
    "    score_xgb = cross_val_score(XGBRegressor(), x, y, cv= fold)\n",
    "    \n",
    "    model_names = ['LinearRegression', 'Lasso', 'Ridge', 'SVR', 'DecisionTreeRegressor', 'KNeighborsRegressor', \n",
    "                   'RandomForestRegressor', 'AdaBoostRegressor', 'GradientBoostingRegressor', 'XGBRegressor']\n",
    "    \n",
    "    scores = [score_lr, score_la, score_ri, score_svr, score_dt, score_knn, score_rm, score_ad, score_gr, score_xgb]\n",
    "    result = []\n",
    "    for i in range(len(model_names)):\n",
    "        score_mean = np.mean(scores[i])\n",
    "        score_std = np.std(scores[i])\n",
    "        m_names = model_names[i]\n",
    "        temp = [m_names, score_mean, score_std]\n",
    "        result.append(temp)\n",
    "    \n",
    "    K_fold_df = pd.DataFrame(result, columns= ['model_names', 'score_mean', 'score_std'])\n",
    "    return K_fold_df.sort_values('score_mean', ascending= False)"
   ]
  },
  {
   "cell_type": "code",
   "execution_count": 56,
   "id": "3ff6b066",
   "metadata": {},
   "outputs": [
    {
     "data": {
      "text/html": [
       "<div>\n",
       "<style scoped>\n",
       "    .dataframe tbody tr th:only-of-type {\n",
       "        vertical-align: middle;\n",
       "    }\n",
       "\n",
       "    .dataframe tbody tr th {\n",
       "        vertical-align: top;\n",
       "    }\n",
       "\n",
       "    .dataframe thead th {\n",
       "        text-align: right;\n",
       "    }\n",
       "</style>\n",
       "<table border=\"1\" class=\"dataframe\">\n",
       "  <thead>\n",
       "    <tr style=\"text-align: right;\">\n",
       "      <th></th>\n",
       "      <th>model_names</th>\n",
       "      <th>score_mean</th>\n",
       "      <th>score_std</th>\n",
       "    </tr>\n",
       "  </thead>\n",
       "  <tbody>\n",
       "    <tr>\n",
       "      <th>8</th>\n",
       "      <td>GradientBoostingRegressor</td>\n",
       "      <td>0.525134</td>\n",
       "      <td>0.192225</td>\n",
       "    </tr>\n",
       "    <tr>\n",
       "      <th>6</th>\n",
       "      <td>RandomForestRegressor</td>\n",
       "      <td>0.432526</td>\n",
       "      <td>0.236528</td>\n",
       "    </tr>\n",
       "    <tr>\n",
       "      <th>7</th>\n",
       "      <td>AdaBoostRegressor</td>\n",
       "      <td>0.394573</td>\n",
       "      <td>0.257959</td>\n",
       "    </tr>\n",
       "    <tr>\n",
       "      <th>9</th>\n",
       "      <td>XGBRegressor</td>\n",
       "      <td>0.332209</td>\n",
       "      <td>0.229271</td>\n",
       "    </tr>\n",
       "    <tr>\n",
       "      <th>2</th>\n",
       "      <td>Ridge</td>\n",
       "      <td>0.288731</td>\n",
       "      <td>0.138789</td>\n",
       "    </tr>\n",
       "    <tr>\n",
       "      <th>1</th>\n",
       "      <td>Lasso</td>\n",
       "      <td>0.288694</td>\n",
       "      <td>0.138603</td>\n",
       "    </tr>\n",
       "    <tr>\n",
       "      <th>0</th>\n",
       "      <td>LinearRegression</td>\n",
       "      <td>0.288675</td>\n",
       "      <td>0.138599</td>\n",
       "    </tr>\n",
       "    <tr>\n",
       "      <th>4</th>\n",
       "      <td>DecisionTreeRegressor</td>\n",
       "      <td>-0.033867</td>\n",
       "      <td>0.537436</td>\n",
       "    </tr>\n",
       "    <tr>\n",
       "      <th>3</th>\n",
       "      <td>SVR</td>\n",
       "      <td>-0.900076</td>\n",
       "      <td>1.770096</td>\n",
       "    </tr>\n",
       "    <tr>\n",
       "      <th>5</th>\n",
       "      <td>KNeighborsRegressor</td>\n",
       "      <td>-1.359471</td>\n",
       "      <td>1.230547</td>\n",
       "    </tr>\n",
       "  </tbody>\n",
       "</table>\n",
       "</div>"
      ],
      "text/plain": [
       "                 model_names  score_mean  score_std\n",
       "8  GradientBoostingRegressor    0.525134   0.192225\n",
       "6      RandomForestRegressor    0.432526   0.236528\n",
       "7          AdaBoostRegressor    0.394573   0.257959\n",
       "9               XGBRegressor    0.332209   0.229271\n",
       "2                      Ridge    0.288731   0.138789\n",
       "1                      Lasso    0.288694   0.138603\n",
       "0           LinearRegression    0.288675   0.138599\n",
       "4      DecisionTreeRegressor   -0.033867   0.537436\n",
       "3                        SVR   -0.900076   1.770096\n",
       "5        KNeighborsRegressor   -1.359471   1.230547"
      ]
     },
     "execution_count": 56,
     "metadata": {},
     "output_type": "execute_result"
    }
   ],
   "source": [
    "K_fold_CV(x = new_df.drop('charges in INR', axis=1), y=new_df['charges in INR'])"
   ]
  },
  {
   "cell_type": "markdown",
   "id": "34194a6d",
   "metadata": {},
   "source": [
    "### Hyperparameter tuning"
   ]
  },
  {
   "cell_type": "code",
   "execution_count": 57,
   "id": "1115ba56",
   "metadata": {},
   "outputs": [],
   "source": [
    "def tuning(x,y, fold= 10):\n",
    "    #parameter grid for all the models\n",
    "    param_dt = {'criterion': ['squared_error', 'friedman_mse', 'absolute_error', 'poisson'], 'max_features': ['auto','sqrt','log2',2,3,4,5,6,7,8]}\n",
    "    param_knn = {'n_neighbors': [5, 10, 20, 40, 60, 80, 100]}\n",
    "    param_rf = {'n_estimators': [100, 200, 300], 'max_depth': [3,5,7,10]}\n",
    "    param_ad = {'n_estimators': [100, 200, 300], 'loss': ['linear', 'square', 'exponential']} #, 'base_estimator': ['LinearRegression', 'DecisionTreeRegressor']\n",
    "    param_gr = {'n_estimators': [200, 300], 'learning_rate':[0.1, 0.01]}\n",
    "    param_xgb = {'eta': [0.01, 0.1, 0.3], 'max_depth':[3,5,7,10], 'subsample': [0.5, 0.7, 1]}\n",
    "    param_rd = {'alpha': [1e-15, 1e-13, 1e-11, 1e-9, 1e-7, 1e-5, 1e-3, 1e-1, 0, 1,2,3,4,5,6,7,8,9,10,20,30,40,50,60,70,80,90,100,200,300,400,500]}\n",
    "    param_ls = {'alpha': [1e-15, 1e-13, 1e-11, 1e-9, 1e-7, 1e-5, 1e-3, 1e-1, 0, 1,2,3,4,5,6,7,8,9,10,20,30,40,50,60,70,80,90,100,200,300,400,500]}\n",
    "    param_svr = [{'kernel': ['rbf'], 'gamma': [1e-4, 1e-3, 0.01, 0.1, 0.2, 0.5, 0.6, 0.9],'C': [1, 10, 100, 1000, 10000]}]\n",
    "                \n",
    "    \n",
    "    \n",
    "# hyperparameter tuning (passing hyperparameters in gridsearch)\n",
    "\n",
    "    tuned_las = GridSearchCV(Lasso(), param_ls, cv= fold)\n",
    "    tuned_rd = GridSearchCV(Ridge(), param_rd, cv= fold)\n",
    "    tuned_knn = GridSearchCV(KNeighborsRegressor(), param_knn, cv= fold)\n",
    "    tuned_dt = GridSearchCV(DecisionTreeRegressor(), param_dt, cv= fold)\n",
    "    tuned_rf = GridSearchCV(RandomForestRegressor(), param_rf, cv= fold)\n",
    "    tuned_ad = GridSearchCV(AdaBoostRegressor(), param_ad, cv= fold)\n",
    "    tuned_gr = GridSearchCV(GradientBoostingRegressor(), param_gr, cv= fold)\n",
    "    tuned_xgb = GridSearchCV(XGBRegressor(), param_xgb, cv= fold)\n",
    "    tunned_svr = GridSearchCV(SVR(), param_svr, cv=fold)\n",
    "    \n",
    "    \n",
    "#Fitting x and y\n",
    "    tuned_las.fit(x, y)\n",
    "    tuned_rd.fit(x, y)\n",
    "    tuned_knn.fit(x, y)\n",
    "    tuned_dt.fit(x, y)\n",
    "    tuned_rf.fit(x, y)\n",
    "    tuned_ad.fit(x, y)\n",
    "    tuned_gr.fit(x, y)\n",
    "    tuned_xgb.fit(x, y)\n",
    "    tunned_svr.fit(x,y)\n",
    "    \n",
    "    tune = [tuned_las, tuned_rd, tuned_knn, tuned_dt, tuned_rf, tuned_ad, tuned_gr, tuned_xgb, tunned_svr]\n",
    "    models = ['Lasso', 'Ridge', 'Knn', 'Decision_Tree', 'Random_forest', 'Adaboost', 'Gboost', 'XGBoost','SVR']\n",
    "    for i in range(len(tune)):\n",
    "        print('models: ', models[i])\n",
    "        print('best_params: ',tune[i].best_params_)"
   ]
  },
  {
   "cell_type": "code",
   "execution_count": 58,
   "id": "c14a8f9d",
   "metadata": {},
   "outputs": [
    {
     "name": "stdout",
     "output_type": "stream",
     "text": [
      "models:  Lasso\n",
      "best_params:  {'alpha': 50}\n",
      "models:  Ridge\n",
      "best_params:  {'alpha': 1}\n",
      "models:  Knn\n",
      "best_params:  {'n_neighbors': 100}\n",
      "models:  Decision_Tree\n",
      "best_params:  {'criterion': 'friedman_mse', 'max_features': 'auto'}\n",
      "models:  Random_forest\n",
      "best_params:  {'max_depth': 5, 'n_estimators': 300}\n",
      "models:  Adaboost\n",
      "best_params:  {'loss': 'linear', 'n_estimators': 300}\n",
      "models:  Gboost\n",
      "best_params:  {'learning_rate': 0.01, 'n_estimators': 300}\n",
      "models:  XGBoost\n",
      "best_params:  {'eta': 0.1, 'max_depth': 3, 'subsample': 1}\n",
      "models:  SVR\n",
      "best_params:  {'C': 10000, 'gamma': 0.01, 'kernel': 'rbf'}\n"
     ]
    }
   ],
   "source": [
    "tuning(new_df.drop('charges in INR', axis=1), y= new_df['charges in INR'])"
   ]
  },
  {
   "cell_type": "markdown",
   "id": "2814c54c",
   "metadata": {},
   "source": [
    "### Post hyperparameter tuning"
   ]
  },
  {
   "cell_type": "code",
   "execution_count": 59,
   "id": "52286150",
   "metadata": {},
   "outputs": [],
   "source": [
    "def cv_post_hpt(x, y, fold=10):\n",
    "    score_lr = cross_val_score(LinearRegression(), x, y, cv= fold)\n",
    "    score_la = cross_val_score(Lasso(alpha =50), x, y, cv= fold)\n",
    "    score_ri = cross_val_score(Ridge(alpha =1), x, y, cv= fold)\n",
    "    score_svr = cross_val_score(SVR(C=1000, gamma=0.01, kernel='rbf'), x, y, cv= fold)\n",
    "    score_dt = cross_val_score(DecisionTreeRegressor(criterion='friedman_mse' , max_features= 2), x, y, cv= fold)\n",
    "    score_knn = cross_val_score(KNeighborsRegressor(n_neighbors= 100), x, y, cv= fold)\n",
    "    score_rm = cross_val_score(RandomForestRegressor(n_estimators =300 , max_depth=5 ), x, y, cv= fold)\n",
    "    score_ad = cross_val_score(AdaBoostRegressor(n_estimators=100 , loss='linear'), x, y, cv= fold)\n",
    "    score_gr = cross_val_score(GradientBoostingRegressor(n_estimators=300 , learning_rate=0.01 ), x, y, cv= fold)\n",
    "    score_xgb = cross_val_score(XGBRegressor(eta=0.1 , max_depth=3 , subsample=1 ), x, y, cv= fold)\n",
    "    \n",
    "    model_names = ['LinearRegression', 'Lasso', 'Ridge', 'SVR', 'DecisionTreeRegressor', 'KNeighborsRegressor', \n",
    "                   'RandomForestRegressor', 'AdaBoostRegressor', 'GradientBoostingRegressor', 'XGBRegressor']\n",
    "    \n",
    "    scores = [score_lr, score_la, score_ri, score_svr, score_dt, score_knn, score_rm, score_ad, score_gr, score_xgb]\n",
    "    result = []\n",
    "    for i in range(len(model_names)):\n",
    "        score_mean = np.mean(scores[i])\n",
    "        score_std = np.std(scores[i])\n",
    "        m_names = model_names[i]\n",
    "        temp = [m_names, score_mean, score_std]\n",
    "        result.append(temp)\n",
    "    \n",
    "    K_fold_df = pd.DataFrame(result, columns= ['model_names', 'score_mean', 'score_std'])\n",
    "    return K_fold_df.sort_values('score_mean', ascending= False)"
   ]
  },
  {
   "cell_type": "code",
   "execution_count": 60,
   "id": "345876ee",
   "metadata": {},
   "outputs": [
    {
     "data": {
      "text/html": [
       "<div>\n",
       "<style scoped>\n",
       "    .dataframe tbody tr th:only-of-type {\n",
       "        vertical-align: middle;\n",
       "    }\n",
       "\n",
       "    .dataframe tbody tr th {\n",
       "        vertical-align: top;\n",
       "    }\n",
       "\n",
       "    .dataframe thead th {\n",
       "        text-align: right;\n",
       "    }\n",
       "</style>\n",
       "<table border=\"1\" class=\"dataframe\">\n",
       "  <thead>\n",
       "    <tr style=\"text-align: right;\">\n",
       "      <th></th>\n",
       "      <th>model_names</th>\n",
       "      <th>score_mean</th>\n",
       "      <th>score_std</th>\n",
       "    </tr>\n",
       "  </thead>\n",
       "  <tbody>\n",
       "    <tr>\n",
       "      <th>8</th>\n",
       "      <td>GradientBoostingRegressor</td>\n",
       "      <td>0.533048</td>\n",
       "      <td>0.188052</td>\n",
       "    </tr>\n",
       "    <tr>\n",
       "      <th>9</th>\n",
       "      <td>XGBRegressor</td>\n",
       "      <td>0.530186</td>\n",
       "      <td>0.194214</td>\n",
       "    </tr>\n",
       "    <tr>\n",
       "      <th>6</th>\n",
       "      <td>RandomForestRegressor</td>\n",
       "      <td>0.530103</td>\n",
       "      <td>0.193930</td>\n",
       "    </tr>\n",
       "    <tr>\n",
       "      <th>7</th>\n",
       "      <td>AdaBoostRegressor</td>\n",
       "      <td>0.388006</td>\n",
       "      <td>0.267396</td>\n",
       "    </tr>\n",
       "    <tr>\n",
       "      <th>1</th>\n",
       "      <td>Lasso</td>\n",
       "      <td>0.289356</td>\n",
       "      <td>0.139397</td>\n",
       "    </tr>\n",
       "    <tr>\n",
       "      <th>2</th>\n",
       "      <td>Ridge</td>\n",
       "      <td>0.288731</td>\n",
       "      <td>0.138789</td>\n",
       "    </tr>\n",
       "    <tr>\n",
       "      <th>0</th>\n",
       "      <td>LinearRegression</td>\n",
       "      <td>0.288675</td>\n",
       "      <td>0.138599</td>\n",
       "    </tr>\n",
       "    <tr>\n",
       "      <th>4</th>\n",
       "      <td>DecisionTreeRegressor</td>\n",
       "      <td>-0.236136</td>\n",
       "      <td>0.545793</td>\n",
       "    </tr>\n",
       "    <tr>\n",
       "      <th>3</th>\n",
       "      <td>SVR</td>\n",
       "      <td>-0.643436</td>\n",
       "      <td>2.036376</td>\n",
       "    </tr>\n",
       "    <tr>\n",
       "      <th>5</th>\n",
       "      <td>KNeighborsRegressor</td>\n",
       "      <td>-1.061733</td>\n",
       "      <td>1.203685</td>\n",
       "    </tr>\n",
       "  </tbody>\n",
       "</table>\n",
       "</div>"
      ],
      "text/plain": [
       "                 model_names  score_mean  score_std\n",
       "8  GradientBoostingRegressor    0.533048   0.188052\n",
       "9               XGBRegressor    0.530186   0.194214\n",
       "6      RandomForestRegressor    0.530103   0.193930\n",
       "7          AdaBoostRegressor    0.388006   0.267396\n",
       "1                      Lasso    0.289356   0.139397\n",
       "2                      Ridge    0.288731   0.138789\n",
       "0           LinearRegression    0.288675   0.138599\n",
       "4      DecisionTreeRegressor   -0.236136   0.545793\n",
       "3                        SVR   -0.643436   2.036376\n",
       "5        KNeighborsRegressor   -1.061733   1.203685"
      ]
     },
     "execution_count": 60,
     "metadata": {},
     "output_type": "execute_result"
    }
   ],
   "source": [
    "cv_post_hpt(new_df.drop('charges in INR', axis=1), y= new_df['charges in INR'])"
   ]
  },
  {
   "cell_type": "code",
   "execution_count": null,
   "id": "7f892fd3",
   "metadata": {},
   "outputs": [],
   "source": []
  },
  {
   "cell_type": "code",
   "execution_count": null,
   "id": "82221b48",
   "metadata": {},
   "outputs": [],
   "source": []
  }
 ],
 "metadata": {
  "kernelspec": {
   "display_name": "Python 3",
   "language": "python",
   "name": "python3"
  },
  "language_info": {
   "codemirror_mode": {
    "name": "ipython",
    "version": 3
   },
   "file_extension": ".py",
   "mimetype": "text/x-python",
   "name": "python",
   "nbconvert_exporter": "python",
   "pygments_lexer": "ipython3",
   "version": "3.8.8"
  }
 },
 "nbformat": 4,
 "nbformat_minor": 5
}
